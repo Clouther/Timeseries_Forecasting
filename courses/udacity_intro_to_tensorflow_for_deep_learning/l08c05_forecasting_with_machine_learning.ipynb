{
  "cells": [
    {
      "cell_type": "markdown",
      "metadata": {
        "id": "Za8-Nr5k11fh"
      },
      "source": [
        "##### Copyright 2018 The TensorFlow Authors."
      ]
    },
    {
      "cell_type": "code",
      "execution_count": null,
      "metadata": {
        "cellView": "form",
        "id": "Eq10uEbw0E4l"
      },
      "outputs": [],
      "source": [
        "#@title Licensed under the Apache License, Version 2.0 (the \"License\");\n",
        "# you may not use this file except in compliance with the License.\n",
        "# You may obtain a copy of the License at\n",
        "#\n",
        "# https://www.apache.org/licenses/LICENSE-2.0\n",
        "#\n",
        "# Unless required by applicable law or agreed to in writing, software\n",
        "# distributed under the License is distributed on an \"AS IS\" BASIS,\n",
        "# WITHOUT WARRANTIES OR CONDITIONS OF ANY KIND, either express or implied.\n",
        "# See the License for the specific language governing permissions and\n",
        "# limitations under the License."
      ]
    },
    {
      "cell_type": "markdown",
      "metadata": {
        "id": "yHG6wUbvifuX"
      },
      "source": [
        "# Forecasting with machine learning"
      ]
    },
    {
      "cell_type": "markdown",
      "metadata": {
        "id": "bQNmSYMPh1TB"
      },
      "source": [
        "<table class=\"tfo-notebook-buttons\" align=\"left\">\n",
        "  <td>\n",
        "    <a target=\"_blank\" href=\"https://colab.research.google.com/github/tensorflow/examples/blob/master/courses/udacity_intro_to_tensorflow_for_deep_learning/l08c05_forecasting_with_machine_learning.ipynb\"><img src=\"https://www.tensorflow.org/images/colab_logo_32px.png\" />Run in Google Colab</a>\n",
        "  </td>\n",
        "  <td>\n",
        "    <a target=\"_blank\" href=\"https://github.com/tensorflow/examples/blob/master/courses/udacity_intro_to_tensorflow_for_deep_learning/l08c05_forecasting_with_machine_learning.ipynb\"><img src=\"https://www.tensorflow.org/images/GitHub-Mark-32px.png\" />View source on GitHub</a>\n",
        "  </td>\n",
        "</table>"
      ]
    },
    {
      "cell_type": "markdown",
      "metadata": {
        "id": "vidayERjaO5q"
      },
      "source": [
        "## Setup"
      ]
    },
    {
      "cell_type": "code",
      "execution_count": 16,
      "metadata": {
        "id": "gqWabzlJ63nL"
      },
      "outputs": [],
      "source": [
        "import numpy as np\n",
        "import matplotlib.pyplot as plt\n",
        "import tensorflow as tf\n",
        "import datetime\n",
        "import IPython\n",
        "import IPython.display\n",
        "import matplotlib as mpl\n",
        "import matplotlib.pyplot as plt\n",
        "import numpy as np\n",
        "import pandas as pd\n",
        "import seaborn as sns\n",
        "import tensorflow as tf\n",
        "keras = tf.keras"
      ]
    },
    {
      "cell_type": "code",
      "execution_count": 2,
      "metadata": {
        "id": "cg1hfKCPldZG"
      },
      "outputs": [],
      "source": [
        "def plot_series(time, series, format=\"-\", start=0, end=None, label=None):\n",
        "    plt.plot(time[start:end], series[start:end], format, label=label)\n",
        "    plt.xlabel(\"Time\")\n",
        "    plt.ylabel(\"Value\")\n",
        "    if label:\n",
        "        plt.legend(fontsize=14)\n",
        "    plt.grid(True)\n",
        "    \n",
        "def trend(time, slope=0):\n",
        "    return slope * time\n",
        "  \n",
        "  \n",
        "def seasonal_pattern(season_time):\n",
        "    \"\"\"Just an arbitrary pattern, you can change it if you wish\"\"\"\n",
        "    return np.where(season_time < 0.4,\n",
        "                    np.cos(season_time * 2 * np.pi),\n",
        "                    1 / np.exp(3 * season_time))\n",
        "\n",
        "  \n",
        "def seasonality(time, period, amplitude=1, phase=0):\n",
        "    \"\"\"Repeats the same pattern at each period\"\"\"\n",
        "    season_time = ((time + phase) % period) / period\n",
        "    return amplitude * seasonal_pattern(season_time)\n",
        "  \n",
        "  \n",
        "def white_noise(time, noise_level=1, seed=None):\n",
        "    rnd = np.random.RandomState(seed)\n",
        "    return rnd.randn(len(time)) * noise_level"
      ]
    },
    {
      "cell_type": "code",
      "source": [
        "headers=['Interval','Timestamp','Flume Depth (mm)','AV Flow (L/s)', 'Flume Flow (L/s)', 'Precipitation (mm)']\n",
        "df = pd.read_csv ('central1_sani.csv', names=headers)\n",
        "df=df[1:]\n",
        "# df=df.astype(float)\n",
        "df.head()"
      ],
      "metadata": {
        "id": "UL_sVbycSMXe",
        "outputId": "4ae978f6-1753-47ac-9c57-162470d76340",
        "colab": {
          "base_uri": "https://localhost:8080/",
          "height": 206
        }
      },
      "execution_count": 24,
      "outputs": [
        {
          "output_type": "execute_result",
          "data": {
            "text/plain": [
              "  Interval        Timestamp Flume Depth (mm) AV Flow (L/s) Flume Flow (L/s)  \\\n",
              "1   15 Min  2021-04-01 0:15            14.16           0.4             0.22   \n",
              "2   15 Min  2021-04-01 0:30            14.95          0.24             0.29   \n",
              "3   15 Min  2021-04-01 0:45            14.88          0.15             0.21   \n",
              "4   15 Min  2021-04-01 1:00             13.1          0.17             0.21   \n",
              "5   15 Min  2021-04-01 1:15            13.96          0.23             0.21   \n",
              "\n",
              "  Precipitation (mm)  \n",
              "1                  0  \n",
              "2                  0  \n",
              "3                  0  \n",
              "4                  0  \n",
              "5                  0  "
            ],
            "text/html": [
              "\n",
              "  <div id=\"df-9c420ecc-dd4f-4057-ba4f-b29e2fe60c53\">\n",
              "    <div class=\"colab-df-container\">\n",
              "      <div>\n",
              "<style scoped>\n",
              "    .dataframe tbody tr th:only-of-type {\n",
              "        vertical-align: middle;\n",
              "    }\n",
              "\n",
              "    .dataframe tbody tr th {\n",
              "        vertical-align: top;\n",
              "    }\n",
              "\n",
              "    .dataframe thead th {\n",
              "        text-align: right;\n",
              "    }\n",
              "</style>\n",
              "<table border=\"1\" class=\"dataframe\">\n",
              "  <thead>\n",
              "    <tr style=\"text-align: right;\">\n",
              "      <th></th>\n",
              "      <th>Interval</th>\n",
              "      <th>Timestamp</th>\n",
              "      <th>Flume Depth (mm)</th>\n",
              "      <th>AV Flow (L/s)</th>\n",
              "      <th>Flume Flow (L/s)</th>\n",
              "      <th>Precipitation (mm)</th>\n",
              "    </tr>\n",
              "  </thead>\n",
              "  <tbody>\n",
              "    <tr>\n",
              "      <th>1</th>\n",
              "      <td>15 Min</td>\n",
              "      <td>2021-04-01 0:15</td>\n",
              "      <td>14.16</td>\n",
              "      <td>0.4</td>\n",
              "      <td>0.22</td>\n",
              "      <td>0</td>\n",
              "    </tr>\n",
              "    <tr>\n",
              "      <th>2</th>\n",
              "      <td>15 Min</td>\n",
              "      <td>2021-04-01 0:30</td>\n",
              "      <td>14.95</td>\n",
              "      <td>0.24</td>\n",
              "      <td>0.29</td>\n",
              "      <td>0</td>\n",
              "    </tr>\n",
              "    <tr>\n",
              "      <th>3</th>\n",
              "      <td>15 Min</td>\n",
              "      <td>2021-04-01 0:45</td>\n",
              "      <td>14.88</td>\n",
              "      <td>0.15</td>\n",
              "      <td>0.21</td>\n",
              "      <td>0</td>\n",
              "    </tr>\n",
              "    <tr>\n",
              "      <th>4</th>\n",
              "      <td>15 Min</td>\n",
              "      <td>2021-04-01 1:00</td>\n",
              "      <td>13.1</td>\n",
              "      <td>0.17</td>\n",
              "      <td>0.21</td>\n",
              "      <td>0</td>\n",
              "    </tr>\n",
              "    <tr>\n",
              "      <th>5</th>\n",
              "      <td>15 Min</td>\n",
              "      <td>2021-04-01 1:15</td>\n",
              "      <td>13.96</td>\n",
              "      <td>0.23</td>\n",
              "      <td>0.21</td>\n",
              "      <td>0</td>\n",
              "    </tr>\n",
              "  </tbody>\n",
              "</table>\n",
              "</div>\n",
              "      <button class=\"colab-df-convert\" onclick=\"convertToInteractive('df-9c420ecc-dd4f-4057-ba4f-b29e2fe60c53')\"\n",
              "              title=\"Convert this dataframe to an interactive table.\"\n",
              "              style=\"display:none;\">\n",
              "        \n",
              "  <svg xmlns=\"http://www.w3.org/2000/svg\" height=\"24px\"viewBox=\"0 0 24 24\"\n",
              "       width=\"24px\">\n",
              "    <path d=\"M0 0h24v24H0V0z\" fill=\"none\"/>\n",
              "    <path d=\"M18.56 5.44l.94 2.06.94-2.06 2.06-.94-2.06-.94-.94-2.06-.94 2.06-2.06.94zm-11 1L8.5 8.5l.94-2.06 2.06-.94-2.06-.94L8.5 2.5l-.94 2.06-2.06.94zm10 10l.94 2.06.94-2.06 2.06-.94-2.06-.94-.94-2.06-.94 2.06-2.06.94z\"/><path d=\"M17.41 7.96l-1.37-1.37c-.4-.4-.92-.59-1.43-.59-.52 0-1.04.2-1.43.59L10.3 9.45l-7.72 7.72c-.78.78-.78 2.05 0 2.83L4 21.41c.39.39.9.59 1.41.59.51 0 1.02-.2 1.41-.59l7.78-7.78 2.81-2.81c.8-.78.8-2.07 0-2.86zM5.41 20L4 18.59l7.72-7.72 1.47 1.35L5.41 20z\"/>\n",
              "  </svg>\n",
              "      </button>\n",
              "      \n",
              "  <style>\n",
              "    .colab-df-container {\n",
              "      display:flex;\n",
              "      flex-wrap:wrap;\n",
              "      gap: 12px;\n",
              "    }\n",
              "\n",
              "    .colab-df-convert {\n",
              "      background-color: #E8F0FE;\n",
              "      border: none;\n",
              "      border-radius: 50%;\n",
              "      cursor: pointer;\n",
              "      display: none;\n",
              "      fill: #1967D2;\n",
              "      height: 32px;\n",
              "      padding: 0 0 0 0;\n",
              "      width: 32px;\n",
              "    }\n",
              "\n",
              "    .colab-df-convert:hover {\n",
              "      background-color: #E2EBFA;\n",
              "      box-shadow: 0px 1px 2px rgba(60, 64, 67, 0.3), 0px 1px 3px 1px rgba(60, 64, 67, 0.15);\n",
              "      fill: #174EA6;\n",
              "    }\n",
              "\n",
              "    [theme=dark] .colab-df-convert {\n",
              "      background-color: #3B4455;\n",
              "      fill: #D2E3FC;\n",
              "    }\n",
              "\n",
              "    [theme=dark] .colab-df-convert:hover {\n",
              "      background-color: #434B5C;\n",
              "      box-shadow: 0px 1px 3px 1px rgba(0, 0, 0, 0.15);\n",
              "      filter: drop-shadow(0px 1px 2px rgba(0, 0, 0, 0.3));\n",
              "      fill: #FFFFFF;\n",
              "    }\n",
              "  </style>\n",
              "\n",
              "      <script>\n",
              "        const buttonEl =\n",
              "          document.querySelector('#df-9c420ecc-dd4f-4057-ba4f-b29e2fe60c53 button.colab-df-convert');\n",
              "        buttonEl.style.display =\n",
              "          google.colab.kernel.accessAllowed ? 'block' : 'none';\n",
              "\n",
              "        async function convertToInteractive(key) {\n",
              "          const element = document.querySelector('#df-9c420ecc-dd4f-4057-ba4f-b29e2fe60c53');\n",
              "          const dataTable =\n",
              "            await google.colab.kernel.invokeFunction('convertToInteractive',\n",
              "                                                     [key], {});\n",
              "          if (!dataTable) return;\n",
              "\n",
              "          const docLinkHtml = 'Like what you see? Visit the ' +\n",
              "            '<a target=\"_blank\" href=https://colab.research.google.com/notebooks/data_table.ipynb>data table notebook</a>'\n",
              "            + ' to learn more about interactive tables.';\n",
              "          element.innerHTML = '';\n",
              "          dataTable['output_type'] = 'display_data';\n",
              "          await google.colab.output.renderOutput(dataTable, element);\n",
              "          const docLink = document.createElement('div');\n",
              "          docLink.innerHTML = docLinkHtml;\n",
              "          element.appendChild(docLink);\n",
              "        }\n",
              "      </script>\n",
              "    </div>\n",
              "  </div>\n",
              "  "
            ]
          },
          "metadata": {},
          "execution_count": 24
        }
      ]
    },
    {
      "cell_type": "code",
      "execution_count": 27,
      "metadata": {
        "id": "iL2DDjV3lel6",
        "outputId": "80db4ec1-03a3-41ed-e255-e5552d42586e",
        "colab": {
          "base_uri": "https://localhost:8080/",
          "height": 732
        }
      },
      "outputs": [
        {
          "output_type": "error",
          "ename": "TypeError",
          "evalue": "ignored",
          "traceback": [
            "\u001b[0;31m---------------------------------------------------------------------------\u001b[0m",
            "\u001b[0;31mTypeError\u001b[0m                                 Traceback (most recent call last)",
            "\u001b[0;32m<ipython-input-27-67c48230ed03>\u001b[0m in \u001b[0;36m<module>\u001b[0;34m()\u001b[0m\n\u001b[1;32m     14\u001b[0m \u001b[0;34m\u001b[0m\u001b[0m\n\u001b[1;32m     15\u001b[0m \u001b[0mplt\u001b[0m\u001b[0;34m.\u001b[0m\u001b[0mfigure\u001b[0m\u001b[0;34m(\u001b[0m\u001b[0mfigsize\u001b[0m\u001b[0;34m=\u001b[0m\u001b[0;34m(\u001b[0m\u001b[0;36m10\u001b[0m\u001b[0;34m,\u001b[0m \u001b[0;36m6\u001b[0m\u001b[0;34m)\u001b[0m\u001b[0;34m)\u001b[0m\u001b[0;34m\u001b[0m\u001b[0;34m\u001b[0m\u001b[0m\n\u001b[0;32m---> 16\u001b[0;31m \u001b[0mplot_series\u001b[0m\u001b[0;34m(\u001b[0m\u001b[0mtime\u001b[0m\u001b[0;34m,\u001b[0m \u001b[0mseries\u001b[0m\u001b[0;34m)\u001b[0m\u001b[0;34m\u001b[0m\u001b[0;34m\u001b[0m\u001b[0m\n\u001b[0m\u001b[1;32m     17\u001b[0m \u001b[0mplt\u001b[0m\u001b[0;34m.\u001b[0m\u001b[0mshow\u001b[0m\u001b[0;34m(\u001b[0m\u001b[0;34m)\u001b[0m\u001b[0;34m\u001b[0m\u001b[0;34m\u001b[0m\u001b[0m\n",
            "\u001b[0;32m<ipython-input-2-91562771caeb>\u001b[0m in \u001b[0;36mplot_series\u001b[0;34m(time, series, format, start, end, label)\u001b[0m\n\u001b[1;32m      1\u001b[0m \u001b[0;32mdef\u001b[0m \u001b[0mplot_series\u001b[0m\u001b[0;34m(\u001b[0m\u001b[0mtime\u001b[0m\u001b[0;34m,\u001b[0m \u001b[0mseries\u001b[0m\u001b[0;34m,\u001b[0m \u001b[0mformat\u001b[0m\u001b[0;34m=\u001b[0m\u001b[0;34m\"-\"\u001b[0m\u001b[0;34m,\u001b[0m \u001b[0mstart\u001b[0m\u001b[0;34m=\u001b[0m\u001b[0;36m0\u001b[0m\u001b[0;34m,\u001b[0m \u001b[0mend\u001b[0m\u001b[0;34m=\u001b[0m\u001b[0;32mNone\u001b[0m\u001b[0;34m,\u001b[0m \u001b[0mlabel\u001b[0m\u001b[0;34m=\u001b[0m\u001b[0;32mNone\u001b[0m\u001b[0;34m)\u001b[0m\u001b[0;34m:\u001b[0m\u001b[0;34m\u001b[0m\u001b[0;34m\u001b[0m\u001b[0m\n\u001b[0;32m----> 2\u001b[0;31m     \u001b[0mplt\u001b[0m\u001b[0;34m.\u001b[0m\u001b[0mplot\u001b[0m\u001b[0;34m(\u001b[0m\u001b[0mtime\u001b[0m\u001b[0;34m[\u001b[0m\u001b[0mstart\u001b[0m\u001b[0;34m:\u001b[0m\u001b[0mend\u001b[0m\u001b[0;34m]\u001b[0m\u001b[0;34m,\u001b[0m \u001b[0mseries\u001b[0m\u001b[0;34m[\u001b[0m\u001b[0mstart\u001b[0m\u001b[0;34m:\u001b[0m\u001b[0mend\u001b[0m\u001b[0;34m]\u001b[0m\u001b[0;34m,\u001b[0m \u001b[0mformat\u001b[0m\u001b[0;34m,\u001b[0m \u001b[0mlabel\u001b[0m\u001b[0;34m=\u001b[0m\u001b[0mlabel\u001b[0m\u001b[0;34m)\u001b[0m\u001b[0;34m\u001b[0m\u001b[0;34m\u001b[0m\u001b[0m\n\u001b[0m\u001b[1;32m      3\u001b[0m     \u001b[0mplt\u001b[0m\u001b[0;34m.\u001b[0m\u001b[0mxlabel\u001b[0m\u001b[0;34m(\u001b[0m\u001b[0;34m\"Time\"\u001b[0m\u001b[0;34m)\u001b[0m\u001b[0;34m\u001b[0m\u001b[0;34m\u001b[0m\u001b[0m\n\u001b[1;32m      4\u001b[0m     \u001b[0mplt\u001b[0m\u001b[0;34m.\u001b[0m\u001b[0mylabel\u001b[0m\u001b[0;34m(\u001b[0m\u001b[0;34m\"Value\"\u001b[0m\u001b[0;34m)\u001b[0m\u001b[0;34m\u001b[0m\u001b[0;34m\u001b[0m\u001b[0m\n\u001b[1;32m      5\u001b[0m     \u001b[0;32mif\u001b[0m \u001b[0mlabel\u001b[0m\u001b[0;34m:\u001b[0m\u001b[0;34m\u001b[0m\u001b[0;34m\u001b[0m\u001b[0m\n",
            "\u001b[0;32m/usr/local/lib/python3.7/dist-packages/matplotlib/pyplot.py\u001b[0m in \u001b[0;36mplot\u001b[0;34m(scalex, scaley, data, *args, **kwargs)\u001b[0m\n\u001b[1;32m   2761\u001b[0m     return gca().plot(\n\u001b[1;32m   2762\u001b[0m         *args, scalex=scalex, scaley=scaley, **({\"data\": data} if data\n\u001b[0;32m-> 2763\u001b[0;31m         is not None else {}), **kwargs)\n\u001b[0m\u001b[1;32m   2764\u001b[0m \u001b[0;34m\u001b[0m\u001b[0m\n\u001b[1;32m   2765\u001b[0m \u001b[0;34m\u001b[0m\u001b[0m\n",
            "\u001b[0;32m/usr/local/lib/python3.7/dist-packages/matplotlib/axes/_axes.py\u001b[0m in \u001b[0;36mplot\u001b[0;34m(self, scalex, scaley, data, *args, **kwargs)\u001b[0m\n\u001b[1;32m   1645\u001b[0m         \"\"\"\n\u001b[1;32m   1646\u001b[0m         \u001b[0mkwargs\u001b[0m \u001b[0;34m=\u001b[0m \u001b[0mcbook\u001b[0m\u001b[0;34m.\u001b[0m\u001b[0mnormalize_kwargs\u001b[0m\u001b[0;34m(\u001b[0m\u001b[0mkwargs\u001b[0m\u001b[0;34m,\u001b[0m \u001b[0mmlines\u001b[0m\u001b[0;34m.\u001b[0m\u001b[0mLine2D\u001b[0m\u001b[0;34m)\u001b[0m\u001b[0;34m\u001b[0m\u001b[0;34m\u001b[0m\u001b[0m\n\u001b[0;32m-> 1647\u001b[0;31m         \u001b[0mlines\u001b[0m \u001b[0;34m=\u001b[0m \u001b[0;34m[\u001b[0m\u001b[0;34m*\u001b[0m\u001b[0mself\u001b[0m\u001b[0;34m.\u001b[0m\u001b[0m_get_lines\u001b[0m\u001b[0;34m(\u001b[0m\u001b[0;34m*\u001b[0m\u001b[0margs\u001b[0m\u001b[0;34m,\u001b[0m \u001b[0mdata\u001b[0m\u001b[0;34m=\u001b[0m\u001b[0mdata\u001b[0m\u001b[0;34m,\u001b[0m \u001b[0;34m**\u001b[0m\u001b[0mkwargs\u001b[0m\u001b[0;34m)\u001b[0m\u001b[0;34m]\u001b[0m\u001b[0;34m\u001b[0m\u001b[0;34m\u001b[0m\u001b[0m\n\u001b[0m\u001b[1;32m   1648\u001b[0m         \u001b[0;32mfor\u001b[0m \u001b[0mline\u001b[0m \u001b[0;32min\u001b[0m \u001b[0mlines\u001b[0m\u001b[0;34m:\u001b[0m\u001b[0;34m\u001b[0m\u001b[0;34m\u001b[0m\u001b[0m\n\u001b[1;32m   1649\u001b[0m             \u001b[0mself\u001b[0m\u001b[0;34m.\u001b[0m\u001b[0madd_line\u001b[0m\u001b[0;34m(\u001b[0m\u001b[0mline\u001b[0m\u001b[0;34m)\u001b[0m\u001b[0;34m\u001b[0m\u001b[0;34m\u001b[0m\u001b[0m\n",
            "\u001b[0;32m/usr/local/lib/python3.7/dist-packages/matplotlib/axes/_base.py\u001b[0m in \u001b[0;36m__call__\u001b[0;34m(self, *args, **kwargs)\u001b[0m\n\u001b[1;32m    214\u001b[0m                 \u001b[0mthis\u001b[0m \u001b[0;34m+=\u001b[0m \u001b[0margs\u001b[0m\u001b[0;34m[\u001b[0m\u001b[0;36m0\u001b[0m\u001b[0;34m]\u001b[0m\u001b[0;34m,\u001b[0m\u001b[0;34m\u001b[0m\u001b[0;34m\u001b[0m\u001b[0m\n\u001b[1;32m    215\u001b[0m                 \u001b[0margs\u001b[0m \u001b[0;34m=\u001b[0m \u001b[0margs\u001b[0m\u001b[0;34m[\u001b[0m\u001b[0;36m1\u001b[0m\u001b[0;34m:\u001b[0m\u001b[0;34m]\u001b[0m\u001b[0;34m\u001b[0m\u001b[0;34m\u001b[0m\u001b[0m\n\u001b[0;32m--> 216\u001b[0;31m             \u001b[0;32myield\u001b[0m \u001b[0;32mfrom\u001b[0m \u001b[0mself\u001b[0m\u001b[0;34m.\u001b[0m\u001b[0m_plot_args\u001b[0m\u001b[0;34m(\u001b[0m\u001b[0mthis\u001b[0m\u001b[0;34m,\u001b[0m \u001b[0mkwargs\u001b[0m\u001b[0;34m)\u001b[0m\u001b[0;34m\u001b[0m\u001b[0;34m\u001b[0m\u001b[0m\n\u001b[0m\u001b[1;32m    217\u001b[0m \u001b[0;34m\u001b[0m\u001b[0m\n\u001b[1;32m    218\u001b[0m     \u001b[0;32mdef\u001b[0m \u001b[0mget_next_color\u001b[0m\u001b[0;34m(\u001b[0m\u001b[0mself\u001b[0m\u001b[0;34m)\u001b[0m\u001b[0;34m:\u001b[0m\u001b[0;34m\u001b[0m\u001b[0;34m\u001b[0m\u001b[0m\n",
            "\u001b[0;32m/usr/local/lib/python3.7/dist-packages/matplotlib/axes/_base.py\u001b[0m in \u001b[0;36m_plot_args\u001b[0;34m(self, tup, kwargs)\u001b[0m\n\u001b[1;32m    337\u001b[0m             \u001b[0mself\u001b[0m\u001b[0;34m.\u001b[0m\u001b[0maxes\u001b[0m\u001b[0;34m.\u001b[0m\u001b[0mxaxis\u001b[0m\u001b[0;34m.\u001b[0m\u001b[0mupdate_units\u001b[0m\u001b[0;34m(\u001b[0m\u001b[0mx\u001b[0m\u001b[0;34m)\u001b[0m\u001b[0;34m\u001b[0m\u001b[0;34m\u001b[0m\u001b[0m\n\u001b[1;32m    338\u001b[0m         \u001b[0;32mif\u001b[0m \u001b[0mself\u001b[0m\u001b[0;34m.\u001b[0m\u001b[0maxes\u001b[0m\u001b[0;34m.\u001b[0m\u001b[0myaxis\u001b[0m \u001b[0;32mis\u001b[0m \u001b[0;32mnot\u001b[0m \u001b[0;32mNone\u001b[0m\u001b[0;34m:\u001b[0m\u001b[0;34m\u001b[0m\u001b[0;34m\u001b[0m\u001b[0m\n\u001b[0;32m--> 339\u001b[0;31m             \u001b[0mself\u001b[0m\u001b[0;34m.\u001b[0m\u001b[0maxes\u001b[0m\u001b[0;34m.\u001b[0m\u001b[0myaxis\u001b[0m\u001b[0;34m.\u001b[0m\u001b[0mupdate_units\u001b[0m\u001b[0;34m(\u001b[0m\u001b[0my\u001b[0m\u001b[0;34m)\u001b[0m\u001b[0;34m\u001b[0m\u001b[0;34m\u001b[0m\u001b[0m\n\u001b[0m\u001b[1;32m    340\u001b[0m \u001b[0;34m\u001b[0m\u001b[0m\n\u001b[1;32m    341\u001b[0m         \u001b[0;32mif\u001b[0m \u001b[0mx\u001b[0m\u001b[0;34m.\u001b[0m\u001b[0mshape\u001b[0m\u001b[0;34m[\u001b[0m\u001b[0;36m0\u001b[0m\u001b[0;34m]\u001b[0m \u001b[0;34m!=\u001b[0m \u001b[0my\u001b[0m\u001b[0;34m.\u001b[0m\u001b[0mshape\u001b[0m\u001b[0;34m[\u001b[0m\u001b[0;36m0\u001b[0m\u001b[0;34m]\u001b[0m\u001b[0;34m:\u001b[0m\u001b[0;34m\u001b[0m\u001b[0;34m\u001b[0m\u001b[0m\n",
            "\u001b[0;32m/usr/local/lib/python3.7/dist-packages/matplotlib/axis.py\u001b[0m in \u001b[0;36mupdate_units\u001b[0;34m(self, data)\u001b[0m\n\u001b[1;32m   1514\u001b[0m         \u001b[0mneednew\u001b[0m \u001b[0;34m=\u001b[0m \u001b[0mself\u001b[0m\u001b[0;34m.\u001b[0m\u001b[0mconverter\u001b[0m \u001b[0;34m!=\u001b[0m \u001b[0mconverter\u001b[0m\u001b[0;34m\u001b[0m\u001b[0;34m\u001b[0m\u001b[0m\n\u001b[1;32m   1515\u001b[0m         \u001b[0mself\u001b[0m\u001b[0;34m.\u001b[0m\u001b[0mconverter\u001b[0m \u001b[0;34m=\u001b[0m \u001b[0mconverter\u001b[0m\u001b[0;34m\u001b[0m\u001b[0;34m\u001b[0m\u001b[0m\n\u001b[0;32m-> 1516\u001b[0;31m         \u001b[0mdefault\u001b[0m \u001b[0;34m=\u001b[0m \u001b[0mself\u001b[0m\u001b[0;34m.\u001b[0m\u001b[0mconverter\u001b[0m\u001b[0;34m.\u001b[0m\u001b[0mdefault_units\u001b[0m\u001b[0;34m(\u001b[0m\u001b[0mdata\u001b[0m\u001b[0;34m,\u001b[0m \u001b[0mself\u001b[0m\u001b[0;34m)\u001b[0m\u001b[0;34m\u001b[0m\u001b[0;34m\u001b[0m\u001b[0m\n\u001b[0m\u001b[1;32m   1517\u001b[0m         \u001b[0;32mif\u001b[0m \u001b[0mdefault\u001b[0m \u001b[0;32mis\u001b[0m \u001b[0;32mnot\u001b[0m \u001b[0;32mNone\u001b[0m \u001b[0;32mand\u001b[0m \u001b[0mself\u001b[0m\u001b[0;34m.\u001b[0m\u001b[0munits\u001b[0m \u001b[0;32mis\u001b[0m \u001b[0;32mNone\u001b[0m\u001b[0;34m:\u001b[0m\u001b[0;34m\u001b[0m\u001b[0;34m\u001b[0m\u001b[0m\n\u001b[1;32m   1518\u001b[0m             \u001b[0mself\u001b[0m\u001b[0;34m.\u001b[0m\u001b[0mset_units\u001b[0m\u001b[0;34m(\u001b[0m\u001b[0mdefault\u001b[0m\u001b[0;34m)\u001b[0m\u001b[0;34m\u001b[0m\u001b[0;34m\u001b[0m\u001b[0m\n",
            "\u001b[0;32m/usr/local/lib/python3.7/dist-packages/matplotlib/category.py\u001b[0m in \u001b[0;36mdefault_units\u001b[0;34m(data, axis)\u001b[0m\n\u001b[1;32m    105\u001b[0m         \u001b[0;31m# the conversion call stack is default_units -> axis_info -> convert\u001b[0m\u001b[0;34m\u001b[0m\u001b[0;34m\u001b[0m\u001b[0;34m\u001b[0m\u001b[0m\n\u001b[1;32m    106\u001b[0m         \u001b[0;32mif\u001b[0m \u001b[0maxis\u001b[0m\u001b[0;34m.\u001b[0m\u001b[0munits\u001b[0m \u001b[0;32mis\u001b[0m \u001b[0;32mNone\u001b[0m\u001b[0;34m:\u001b[0m\u001b[0;34m\u001b[0m\u001b[0;34m\u001b[0m\u001b[0m\n\u001b[0;32m--> 107\u001b[0;31m             \u001b[0maxis\u001b[0m\u001b[0;34m.\u001b[0m\u001b[0mset_units\u001b[0m\u001b[0;34m(\u001b[0m\u001b[0mUnitData\u001b[0m\u001b[0;34m(\u001b[0m\u001b[0mdata\u001b[0m\u001b[0;34m)\u001b[0m\u001b[0;34m)\u001b[0m\u001b[0;34m\u001b[0m\u001b[0;34m\u001b[0m\u001b[0m\n\u001b[0m\u001b[1;32m    108\u001b[0m         \u001b[0;32melse\u001b[0m\u001b[0;34m:\u001b[0m\u001b[0;34m\u001b[0m\u001b[0;34m\u001b[0m\u001b[0m\n\u001b[1;32m    109\u001b[0m             \u001b[0maxis\u001b[0m\u001b[0;34m.\u001b[0m\u001b[0munits\u001b[0m\u001b[0;34m.\u001b[0m\u001b[0mupdate\u001b[0m\u001b[0;34m(\u001b[0m\u001b[0mdata\u001b[0m\u001b[0;34m)\u001b[0m\u001b[0;34m\u001b[0m\u001b[0;34m\u001b[0m\u001b[0m\n",
            "\u001b[0;32m/usr/local/lib/python3.7/dist-packages/matplotlib/category.py\u001b[0m in \u001b[0;36m__init__\u001b[0;34m(self, data)\u001b[0m\n\u001b[1;32m    173\u001b[0m         \u001b[0mself\u001b[0m\u001b[0;34m.\u001b[0m\u001b[0m_counter\u001b[0m \u001b[0;34m=\u001b[0m \u001b[0mitertools\u001b[0m\u001b[0;34m.\u001b[0m\u001b[0mcount\u001b[0m\u001b[0;34m(\u001b[0m\u001b[0;34m)\u001b[0m\u001b[0;34m\u001b[0m\u001b[0;34m\u001b[0m\u001b[0m\n\u001b[1;32m    174\u001b[0m         \u001b[0;32mif\u001b[0m \u001b[0mdata\u001b[0m \u001b[0;32mis\u001b[0m \u001b[0;32mnot\u001b[0m \u001b[0;32mNone\u001b[0m\u001b[0;34m:\u001b[0m\u001b[0;34m\u001b[0m\u001b[0;34m\u001b[0m\u001b[0m\n\u001b[0;32m--> 175\u001b[0;31m             \u001b[0mself\u001b[0m\u001b[0;34m.\u001b[0m\u001b[0mupdate\u001b[0m\u001b[0;34m(\u001b[0m\u001b[0mdata\u001b[0m\u001b[0;34m)\u001b[0m\u001b[0;34m\u001b[0m\u001b[0;34m\u001b[0m\u001b[0m\n\u001b[0m\u001b[1;32m    176\u001b[0m \u001b[0;34m\u001b[0m\u001b[0m\n\u001b[1;32m    177\u001b[0m     \u001b[0;34m@\u001b[0m\u001b[0mstaticmethod\u001b[0m\u001b[0;34m\u001b[0m\u001b[0;34m\u001b[0m\u001b[0m\n",
            "\u001b[0;32m/usr/local/lib/python3.7/dist-packages/matplotlib/category.py\u001b[0m in \u001b[0;36mupdate\u001b[0;34m(self, data)\u001b[0m\n\u001b[1;32m    210\u001b[0m         \u001b[0;32mfor\u001b[0m \u001b[0mval\u001b[0m \u001b[0;32min\u001b[0m \u001b[0mOrderedDict\u001b[0m\u001b[0;34m.\u001b[0m\u001b[0mfromkeys\u001b[0m\u001b[0;34m(\u001b[0m\u001b[0mdata\u001b[0m\u001b[0;34m)\u001b[0m\u001b[0;34m:\u001b[0m\u001b[0;34m\u001b[0m\u001b[0;34m\u001b[0m\u001b[0m\n\u001b[1;32m    211\u001b[0m             \u001b[0;31m# OrderedDict just iterates over unique values in data.\u001b[0m\u001b[0;34m\u001b[0m\u001b[0;34m\u001b[0m\u001b[0;34m\u001b[0m\u001b[0m\n\u001b[0;32m--> 212\u001b[0;31m             \u001b[0mcbook\u001b[0m\u001b[0;34m.\u001b[0m\u001b[0m_check_isinstance\u001b[0m\u001b[0;34m(\u001b[0m\u001b[0;34m(\u001b[0m\u001b[0mstr\u001b[0m\u001b[0;34m,\u001b[0m \u001b[0mbytes\u001b[0m\u001b[0;34m)\u001b[0m\u001b[0;34m,\u001b[0m \u001b[0mvalue\u001b[0m\u001b[0;34m=\u001b[0m\u001b[0mval\u001b[0m\u001b[0;34m)\u001b[0m\u001b[0;34m\u001b[0m\u001b[0;34m\u001b[0m\u001b[0m\n\u001b[0m\u001b[1;32m    213\u001b[0m             \u001b[0;32mif\u001b[0m \u001b[0mconvertible\u001b[0m\u001b[0;34m:\u001b[0m\u001b[0;34m\u001b[0m\u001b[0;34m\u001b[0m\u001b[0m\n\u001b[1;32m    214\u001b[0m                 \u001b[0;31m# this will only be called so long as convertible is True.\u001b[0m\u001b[0;34m\u001b[0m\u001b[0;34m\u001b[0m\u001b[0;34m\u001b[0m\u001b[0m\n",
            "\u001b[0;32m/usr/local/lib/python3.7/dist-packages/matplotlib/cbook/__init__.py\u001b[0m in \u001b[0;36m_check_isinstance\u001b[0;34m(_types, **kwargs)\u001b[0m\n\u001b[1;32m   2126\u001b[0m                     \u001b[0;34m\", \"\u001b[0m\u001b[0;34m.\u001b[0m\u001b[0mjoin\u001b[0m\u001b[0;34m(\u001b[0m\u001b[0mnames\u001b[0m\u001b[0;34m[\u001b[0m\u001b[0;34m:\u001b[0m\u001b[0;34m-\u001b[0m\u001b[0;36m1\u001b[0m\u001b[0;34m]\u001b[0m\u001b[0;34m)\u001b[0m \u001b[0;34m+\u001b[0m \u001b[0;34m\" or \"\u001b[0m \u001b[0;34m+\u001b[0m \u001b[0mnames\u001b[0m\u001b[0;34m[\u001b[0m\u001b[0;34m-\u001b[0m\u001b[0;36m1\u001b[0m\u001b[0;34m]\u001b[0m\u001b[0;34m\u001b[0m\u001b[0;34m\u001b[0m\u001b[0m\n\u001b[1;32m   2127\u001b[0m                     \u001b[0;32mif\u001b[0m \u001b[0mlen\u001b[0m\u001b[0;34m(\u001b[0m\u001b[0mnames\u001b[0m\u001b[0;34m)\u001b[0m \u001b[0;34m>\u001b[0m \u001b[0;36m1\u001b[0m \u001b[0;32melse\u001b[0m \u001b[0mnames\u001b[0m\u001b[0;34m[\u001b[0m\u001b[0;36m0\u001b[0m\u001b[0;34m]\u001b[0m\u001b[0;34m,\u001b[0m\u001b[0;34m\u001b[0m\u001b[0;34m\u001b[0m\u001b[0m\n\u001b[0;32m-> 2128\u001b[0;31m                     type_name(type(v))))\n\u001b[0m\u001b[1;32m   2129\u001b[0m \u001b[0;34m\u001b[0m\u001b[0m\n\u001b[1;32m   2130\u001b[0m \u001b[0;34m\u001b[0m\u001b[0m\n",
            "\u001b[0;31mTypeError\u001b[0m: 'value' must be an instance of str or bytes, not a float"
          ]
        },
        {
          "output_type": "display_data",
          "data": {
            "text/plain": [
              "<Figure size 720x432 with 1 Axes>"
            ],
            "image/png": "[encoded data removed]"
          },
          "metadata": {
            "needs_background": "light"
          }
        }
      ],
      "source": [
        "# time = np.arange(4 * 365 + 1)\n",
        "time=pd.to_datetime(df['Timestamp'], format='%Y-%m-%d %H:%M:' )\n",
        "\n",
        "# date_time = pd.to_datetime(df.pop('Timestamp'), format='%Y-%m-%d %H:%M:')\n",
        "# slope = 0.05\n",
        "# baseline = 10\n",
        "# amplitude = 40\n",
        "# series = baseline + trend(time, slope) + seasonality(time, period=365, amplitude=amplitude)\n",
        "series = df['AV Flow (L/s)']\n",
        "# noise_level = 5\n",
        "# noise = white_noise(time, noise_level, seed=42)\n",
        "\n",
        "\n",
        "\n",
        "plt.figure(figsize=(10, 6))\n",
        "plot_series(time, series)\n",
        "plt.show()"
      ]
    },
    {
      "cell_type": "code",
      "source": [
        "series"
      ],
      "metadata": {
        "id": "DLWInv4iUeuq",
        "outputId": "b56a9043-737b-4ea9-e332-f65fccb1b4e2",
        "colab": {
          "base_uri": "https://localhost:8080/"
        }
      },
      "execution_count": 31,
      "outputs": [
        {
          "output_type": "execute_result",
          "data": {
            "text/plain": [
              "1         0.4\n",
              "2        0.24\n",
              "3        0.15\n",
              "4        0.17\n",
              "5        0.23\n",
              "         ... \n",
              "26395     NaN\n",
              "26396     NaN\n",
              "26397     NaN\n",
              "26398     NaN\n",
              "26399     NaN\n",
              "Name: AV Flow (L/s), Length: 26399, dtype: object"
            ]
          },
          "metadata": {},
          "execution_count": 31
        }
      ]
    },
    {
      "cell_type": "markdown",
      "metadata": {
        "id": "ViWVB9qd8OIR"
      },
      "source": [
        "## Forecasting with Machine Learning\n",
        "\n",
        "First, we will train a model to forecast the next step given the previous 30 steps, therefore, we need to create a dataset of 30-step windows for training."
      ]
    },
    {
      "cell_type": "code",
      "execution_count": 7,
      "metadata": {
        "id": "1tl-0BOKkEtk"
      },
      "outputs": [],
      "source": [
        "def window_dataset(series, window_size, batch_size=32,\n",
        "                   shuffle_buffer=1000):\n",
        "    dataset = tf.data.Dataset.from_tensor_slices(series)\n",
        "    dataset = dataset.window(window_size + 1, shift=1, drop_remainder=True)\n",
        "    dataset = dataset.flat_map(lambda window: window.batch(window_size + 1))\n",
        "    dataset = dataset.shuffle(shuffle_buffer)\n",
        "    dataset = dataset.map(lambda window: (window[:-1], window[-1]))\n",
        "    dataset = dataset.batch(batch_size).prefetch(1)\n",
        "    return dataset"
      ]
    },
    {
      "cell_type": "code",
      "execution_count": 10,
      "metadata": {
        "id": "Zmp1JXKxk9Vb"
      },
      "outputs": [],
      "source": [
        "split_time = 1000\n",
        "time_train = date_time[:split_time]\n",
        "x_train = series[:split_time]\n",
        "time_valid = date_time[split_time:]\n",
        "x_valid = series[split_time:]"
      ]
    },
    {
      "cell_type": "markdown",
      "metadata": {
        "id": "T1IvwAFn8OIc"
      },
      "source": [
        "### Linear Model"
      ]
    },
    {
      "cell_type": "code",
      "execution_count": 32,
      "metadata": {
        "id": "ieOKdcEQ0A6k",
        "outputId": "c6d141fe-5c09-4354-9948-a34a662b2460",
        "colab": {
          "base_uri": "https://localhost:8080/",
          "height": 639
        }
      },
      "outputs": [
        {
          "output_type": "error",
          "ename": "ValueError",
          "evalue": "ignored",
          "traceback": [
            "\u001b[0;31m---------------------------------------------------------------------------\u001b[0m",
            "\u001b[0;31mTypeError\u001b[0m                                 Traceback (most recent call last)",
            "\u001b[0;32m/usr/local/lib/python3.7/dist-packages/tensorflow/python/data/util/structure.py\u001b[0m in \u001b[0;36mnormalize_element\u001b[0;34m(element, element_signature)\u001b[0m\n\u001b[1;32m    101\u001b[0m         \u001b[0;32mif\u001b[0m \u001b[0mspec\u001b[0m \u001b[0;32mis\u001b[0m \u001b[0;32mNone\u001b[0m\u001b[0;34m:\u001b[0m\u001b[0;34m\u001b[0m\u001b[0;34m\u001b[0m\u001b[0m\n\u001b[0;32m--> 102\u001b[0;31m           \u001b[0mspec\u001b[0m \u001b[0;34m=\u001b[0m \u001b[0mtype_spec_from_value\u001b[0m\u001b[0;34m(\u001b[0m\u001b[0mt\u001b[0m\u001b[0;34m,\u001b[0m \u001b[0muse_fallback\u001b[0m\u001b[0;34m=\u001b[0m\u001b[0;32mFalse\u001b[0m\u001b[0;34m)\u001b[0m\u001b[0;34m\u001b[0m\u001b[0;34m\u001b[0m\u001b[0m\n\u001b[0m\u001b[1;32m    103\u001b[0m       \u001b[0;32mexcept\u001b[0m \u001b[0mTypeError\u001b[0m\u001b[0;34m:\u001b[0m\u001b[0;34m\u001b[0m\u001b[0;34m\u001b[0m\u001b[0m\n",
            "\u001b[0;32m/usr/local/lib/python3.7/dist-packages/tensorflow/python/data/util/structure.py\u001b[0m in \u001b[0;36mtype_spec_from_value\u001b[0;34m(element, use_fallback)\u001b[0m\n\u001b[1;32m    486\u001b[0m       \u001b[0melement\u001b[0m\u001b[0;34m,\u001b[0m\u001b[0;34m\u001b[0m\u001b[0;34m\u001b[0m\u001b[0m\n\u001b[0;32m--> 487\u001b[0;31m       type(element).__name__))\n\u001b[0m\u001b[1;32m    488\u001b[0m \u001b[0;34m\u001b[0m\u001b[0m\n",
            "\u001b[0;31mTypeError\u001b[0m: Could not build a `TypeSpec` for 1001      0.5\n1002     0.39\n1003     0.75\n1004      1.1\n1005     0.96\n         ... \n26395     NaN\n26396     NaN\n26397     NaN\n26398     NaN\n26399     NaN\nName: AV Flow (L/s), Length: 25399, dtype: object with type Series",
            "\nDuring handling of the above exception, another exception occurred:\n",
            "\u001b[0;31mValueError\u001b[0m                                Traceback (most recent call last)",
            "\u001b[0;32m<ipython-input-32-2208baf0b11d>\u001b[0m in \u001b[0;36m<module>\u001b[0;34m()\u001b[0m\n\u001b[1;32m      5\u001b[0m \u001b[0mwindow_size\u001b[0m \u001b[0;34m=\u001b[0m \u001b[0;36m30\u001b[0m\u001b[0;34m\u001b[0m\u001b[0;34m\u001b[0m\u001b[0m\n\u001b[1;32m      6\u001b[0m \u001b[0mtrain_set\u001b[0m \u001b[0;34m=\u001b[0m \u001b[0mwindow_dataset\u001b[0m\u001b[0;34m(\u001b[0m\u001b[0mx_train\u001b[0m\u001b[0;34m,\u001b[0m \u001b[0mwindow_size\u001b[0m\u001b[0;34m)\u001b[0m\u001b[0;34m\u001b[0m\u001b[0;34m\u001b[0m\u001b[0m\n\u001b[0;32m----> 7\u001b[0;31m \u001b[0mvalid_set\u001b[0m \u001b[0;34m=\u001b[0m \u001b[0mwindow_dataset\u001b[0m\u001b[0;34m(\u001b[0m\u001b[0mx_valid\u001b[0m\u001b[0;34m,\u001b[0m \u001b[0mwindow_size\u001b[0m\u001b[0;34m)\u001b[0m\u001b[0;34m\u001b[0m\u001b[0;34m\u001b[0m\u001b[0m\n\u001b[0m\u001b[1;32m      8\u001b[0m \u001b[0;34m\u001b[0m\u001b[0m\n\u001b[1;32m      9\u001b[0m model = keras.models.Sequential([\n",
            "\u001b[0;32m<ipython-input-7-76b574217172>\u001b[0m in \u001b[0;36mwindow_dataset\u001b[0;34m(series, window_size, batch_size, shuffle_buffer)\u001b[0m\n\u001b[1;32m      1\u001b[0m def window_dataset(series, window_size, batch_size=32,\n\u001b[1;32m      2\u001b[0m                    shuffle_buffer=1000):\n\u001b[0;32m----> 3\u001b[0;31m     \u001b[0mdataset\u001b[0m \u001b[0;34m=\u001b[0m \u001b[0mtf\u001b[0m\u001b[0;34m.\u001b[0m\u001b[0mdata\u001b[0m\u001b[0;34m.\u001b[0m\u001b[0mDataset\u001b[0m\u001b[0;34m.\u001b[0m\u001b[0mfrom_tensor_slices\u001b[0m\u001b[0;34m(\u001b[0m\u001b[0mseries\u001b[0m\u001b[0;34m)\u001b[0m\u001b[0;34m\u001b[0m\u001b[0;34m\u001b[0m\u001b[0m\n\u001b[0m\u001b[1;32m      4\u001b[0m     \u001b[0mdataset\u001b[0m \u001b[0;34m=\u001b[0m \u001b[0mdataset\u001b[0m\u001b[0;34m.\u001b[0m\u001b[0mwindow\u001b[0m\u001b[0;34m(\u001b[0m\u001b[0mwindow_size\u001b[0m \u001b[0;34m+\u001b[0m \u001b[0;36m1\u001b[0m\u001b[0;34m,\u001b[0m \u001b[0mshift\u001b[0m\u001b[0;34m=\u001b[0m\u001b[0;36m1\u001b[0m\u001b[0;34m,\u001b[0m \u001b[0mdrop_remainder\u001b[0m\u001b[0;34m=\u001b[0m\u001b[0;32mTrue\u001b[0m\u001b[0;34m)\u001b[0m\u001b[0;34m\u001b[0m\u001b[0;34m\u001b[0m\u001b[0m\n\u001b[1;32m      5\u001b[0m     \u001b[0mdataset\u001b[0m \u001b[0;34m=\u001b[0m \u001b[0mdataset\u001b[0m\u001b[0;34m.\u001b[0m\u001b[0mflat_map\u001b[0m\u001b[0;34m(\u001b[0m\u001b[0;32mlambda\u001b[0m \u001b[0mwindow\u001b[0m\u001b[0;34m:\u001b[0m \u001b[0mwindow\u001b[0m\u001b[0;34m.\u001b[0m\u001b[0mbatch\u001b[0m\u001b[0;34m(\u001b[0m\u001b[0mwindow_size\u001b[0m \u001b[0;34m+\u001b[0m \u001b[0;36m1\u001b[0m\u001b[0;34m)\u001b[0m\u001b[0;34m)\u001b[0m\u001b[0;34m\u001b[0m\u001b[0;34m\u001b[0m\u001b[0m\n",
            "\u001b[0;32m/usr/local/lib/python3.7/dist-packages/tensorflow/python/data/ops/dataset_ops.py\u001b[0m in \u001b[0;36mfrom_tensor_slices\u001b[0;34m(tensors, name)\u001b[0m\n\u001b[1;32m    791\u001b[0m       \u001b[0mDataset\u001b[0m\u001b[0;34m:\u001b[0m \u001b[0mA\u001b[0m\u001b[0;31m \u001b[0m\u001b[0;31m`\u001b[0m\u001b[0mDataset\u001b[0m\u001b[0;31m`\u001b[0m\u001b[0;34m.\u001b[0m\u001b[0;34m\u001b[0m\u001b[0;34m\u001b[0m\u001b[0m\n\u001b[1;32m    792\u001b[0m     \"\"\"\n\u001b[0;32m--> 793\u001b[0;31m     \u001b[0;32mreturn\u001b[0m \u001b[0mTensorSliceDataset\u001b[0m\u001b[0;34m(\u001b[0m\u001b[0mtensors\u001b[0m\u001b[0;34m,\u001b[0m \u001b[0mname\u001b[0m\u001b[0;34m=\u001b[0m\u001b[0mname\u001b[0m\u001b[0;34m)\u001b[0m\u001b[0;34m\u001b[0m\u001b[0;34m\u001b[0m\u001b[0m\n\u001b[0m\u001b[1;32m    794\u001b[0m \u001b[0;34m\u001b[0m\u001b[0m\n\u001b[1;32m    795\u001b[0m   \u001b[0;32mclass\u001b[0m \u001b[0m_GeneratorState\u001b[0m\u001b[0;34m(\u001b[0m\u001b[0mobject\u001b[0m\u001b[0;34m)\u001b[0m\u001b[0;34m:\u001b[0m\u001b[0;34m\u001b[0m\u001b[0;34m\u001b[0m\u001b[0m\n",
            "\u001b[0;32m/usr/local/lib/python3.7/dist-packages/tensorflow/python/data/ops/dataset_ops.py\u001b[0m in \u001b[0;36m__init__\u001b[0;34m(self, element, is_files, name)\u001b[0m\n\u001b[1;32m   4475\u001b[0m   \u001b[0;32mdef\u001b[0m \u001b[0m__init__\u001b[0m\u001b[0;34m(\u001b[0m\u001b[0mself\u001b[0m\u001b[0;34m,\u001b[0m \u001b[0melement\u001b[0m\u001b[0;34m,\u001b[0m \u001b[0mis_files\u001b[0m\u001b[0;34m=\u001b[0m\u001b[0;32mFalse\u001b[0m\u001b[0;34m,\u001b[0m \u001b[0mname\u001b[0m\u001b[0;34m=\u001b[0m\u001b[0;32mNone\u001b[0m\u001b[0;34m)\u001b[0m\u001b[0;34m:\u001b[0m\u001b[0;34m\u001b[0m\u001b[0;34m\u001b[0m\u001b[0m\n\u001b[1;32m   4476\u001b[0m     \u001b[0;34m\"\"\"See `Dataset.from_tensor_slices()` for details.\"\"\"\u001b[0m\u001b[0;34m\u001b[0m\u001b[0;34m\u001b[0m\u001b[0m\n\u001b[0;32m-> 4477\u001b[0;31m     \u001b[0melement\u001b[0m \u001b[0;34m=\u001b[0m \u001b[0mstructure\u001b[0m\u001b[0;34m.\u001b[0m\u001b[0mnormalize_element\u001b[0m\u001b[0;34m(\u001b[0m\u001b[0melement\u001b[0m\u001b[0;34m)\u001b[0m\u001b[0;34m\u001b[0m\u001b[0;34m\u001b[0m\u001b[0m\n\u001b[0m\u001b[1;32m   4478\u001b[0m     \u001b[0mbatched_spec\u001b[0m \u001b[0;34m=\u001b[0m \u001b[0mstructure\u001b[0m\u001b[0;34m.\u001b[0m\u001b[0mtype_spec_from_value\u001b[0m\u001b[0;34m(\u001b[0m\u001b[0melement\u001b[0m\u001b[0;34m)\u001b[0m\u001b[0;34m\u001b[0m\u001b[0;34m\u001b[0m\u001b[0m\n\u001b[1;32m   4479\u001b[0m     \u001b[0mself\u001b[0m\u001b[0;34m.\u001b[0m\u001b[0m_tensors\u001b[0m \u001b[0;34m=\u001b[0m \u001b[0mstructure\u001b[0m\u001b[0;34m.\u001b[0m\u001b[0mto_batched_tensor_list\u001b[0m\u001b[0;34m(\u001b[0m\u001b[0mbatched_spec\u001b[0m\u001b[0;34m,\u001b[0m \u001b[0melement\u001b[0m\u001b[0;34m)\u001b[0m\u001b[0;34m\u001b[0m\u001b[0;34m\u001b[0m\u001b[0m\n",
            "\u001b[0;32m/usr/local/lib/python3.7/dist-packages/tensorflow/python/data/util/structure.py\u001b[0m in \u001b[0;36mnormalize_element\u001b[0;34m(element, element_signature)\u001b[0m\n\u001b[1;32m    105\u001b[0m         \u001b[0;31m# the value. As a fallback try converting the value to a tensor.\u001b[0m\u001b[0;34m\u001b[0m\u001b[0;34m\u001b[0m\u001b[0;34m\u001b[0m\u001b[0m\n\u001b[1;32m    106\u001b[0m         normalized_components.append(\n\u001b[0;32m--> 107\u001b[0;31m             ops.convert_to_tensor(t, name=\"component_%d\" % i))\n\u001b[0m\u001b[1;32m    108\u001b[0m       \u001b[0;32melse\u001b[0m\u001b[0;34m:\u001b[0m\u001b[0;34m\u001b[0m\u001b[0;34m\u001b[0m\u001b[0m\n\u001b[1;32m    109\u001b[0m         \u001b[0;32mif\u001b[0m \u001b[0misinstance\u001b[0m\u001b[0;34m(\u001b[0m\u001b[0mspec\u001b[0m\u001b[0;34m,\u001b[0m \u001b[0msparse_tensor\u001b[0m\u001b[0;34m.\u001b[0m\u001b[0mSparseTensorSpec\u001b[0m\u001b[0;34m)\u001b[0m\u001b[0;34m:\u001b[0m\u001b[0;34m\u001b[0m\u001b[0;34m\u001b[0m\u001b[0m\n",
            "\u001b[0;32m/usr/local/lib/python3.7/dist-packages/tensorflow/python/profiler/trace.py\u001b[0m in \u001b[0;36mwrapped\u001b[0;34m(*args, **kwargs)\u001b[0m\n\u001b[1;32m    181\u001b[0m         \u001b[0;32mwith\u001b[0m \u001b[0mTrace\u001b[0m\u001b[0;34m(\u001b[0m\u001b[0mtrace_name\u001b[0m\u001b[0;34m,\u001b[0m \u001b[0;34m**\u001b[0m\u001b[0mtrace_kwargs\u001b[0m\u001b[0;34m)\u001b[0m\u001b[0;34m:\u001b[0m\u001b[0;34m\u001b[0m\u001b[0;34m\u001b[0m\u001b[0m\n\u001b[1;32m    182\u001b[0m           \u001b[0;32mreturn\u001b[0m \u001b[0mfunc\u001b[0m\u001b[0;34m(\u001b[0m\u001b[0;34m*\u001b[0m\u001b[0margs\u001b[0m\u001b[0;34m,\u001b[0m \u001b[0;34m**\u001b[0m\u001b[0mkwargs\u001b[0m\u001b[0;34m)\u001b[0m\u001b[0;34m\u001b[0m\u001b[0;34m\u001b[0m\u001b[0m\n\u001b[0;32m--> 183\u001b[0;31m       \u001b[0;32mreturn\u001b[0m \u001b[0mfunc\u001b[0m\u001b[0;34m(\u001b[0m\u001b[0;34m*\u001b[0m\u001b[0margs\u001b[0m\u001b[0;34m,\u001b[0m \u001b[0;34m**\u001b[0m\u001b[0mkwargs\u001b[0m\u001b[0;34m)\u001b[0m\u001b[0;34m\u001b[0m\u001b[0;34m\u001b[0m\u001b[0m\n\u001b[0m\u001b[1;32m    184\u001b[0m \u001b[0;34m\u001b[0m\u001b[0m\n\u001b[1;32m    185\u001b[0m     \u001b[0;32mreturn\u001b[0m \u001b[0mwrapped\u001b[0m\u001b[0;34m\u001b[0m\u001b[0;34m\u001b[0m\u001b[0m\n",
            "\u001b[0;32m/usr/local/lib/python3.7/dist-packages/tensorflow/python/framework/ops.py\u001b[0m in \u001b[0;36mconvert_to_tensor\u001b[0;34m(value, dtype, name, as_ref, preferred_dtype, dtype_hint, ctx, accepted_result_types)\u001b[0m\n\u001b[1;32m   1693\u001b[0m \u001b[0;34m\u001b[0m\u001b[0m\n\u001b[1;32m   1694\u001b[0m     \u001b[0;32mif\u001b[0m \u001b[0mret\u001b[0m \u001b[0;32mis\u001b[0m \u001b[0;32mNone\u001b[0m\u001b[0;34m:\u001b[0m\u001b[0;34m\u001b[0m\u001b[0;34m\u001b[0m\u001b[0m\n\u001b[0;32m-> 1695\u001b[0;31m       \u001b[0mret\u001b[0m \u001b[0;34m=\u001b[0m \u001b[0mconversion_func\u001b[0m\u001b[0;34m(\u001b[0m\u001b[0mvalue\u001b[0m\u001b[0;34m,\u001b[0m \u001b[0mdtype\u001b[0m\u001b[0;34m=\u001b[0m\u001b[0mdtype\u001b[0m\u001b[0;34m,\u001b[0m \u001b[0mname\u001b[0m\u001b[0;34m=\u001b[0m\u001b[0mname\u001b[0m\u001b[0;34m,\u001b[0m \u001b[0mas_ref\u001b[0m\u001b[0;34m=\u001b[0m\u001b[0mas_ref\u001b[0m\u001b[0;34m)\u001b[0m\u001b[0;34m\u001b[0m\u001b[0;34m\u001b[0m\u001b[0m\n\u001b[0m\u001b[1;32m   1696\u001b[0m \u001b[0;34m\u001b[0m\u001b[0m\n\u001b[1;32m   1697\u001b[0m     \u001b[0;32mif\u001b[0m \u001b[0mret\u001b[0m \u001b[0;32mis\u001b[0m \u001b[0mNotImplemented\u001b[0m\u001b[0;34m:\u001b[0m\u001b[0;34m\u001b[0m\u001b[0;34m\u001b[0m\u001b[0m\n",
            "\u001b[0;32m/usr/local/lib/python3.7/dist-packages/tensorflow/python/framework/constant_op.py\u001b[0m in \u001b[0;36m_constant_tensor_conversion_function\u001b[0;34m(v, dtype, name, as_ref)\u001b[0m\n\u001b[1;32m    341\u001b[0m                                          as_ref=False):\n\u001b[1;32m    342\u001b[0m   \u001b[0m_\u001b[0m \u001b[0;34m=\u001b[0m \u001b[0mas_ref\u001b[0m\u001b[0;34m\u001b[0m\u001b[0;34m\u001b[0m\u001b[0m\n\u001b[0;32m--> 343\u001b[0;31m   \u001b[0;32mreturn\u001b[0m \u001b[0mconstant\u001b[0m\u001b[0;34m(\u001b[0m\u001b[0mv\u001b[0m\u001b[0;34m,\u001b[0m \u001b[0mdtype\u001b[0m\u001b[0;34m=\u001b[0m\u001b[0mdtype\u001b[0m\u001b[0;34m,\u001b[0m \u001b[0mname\u001b[0m\u001b[0;34m=\u001b[0m\u001b[0mname\u001b[0m\u001b[0;34m)\u001b[0m\u001b[0;34m\u001b[0m\u001b[0;34m\u001b[0m\u001b[0m\n\u001b[0m\u001b[1;32m    344\u001b[0m \u001b[0;34m\u001b[0m\u001b[0m\n\u001b[1;32m    345\u001b[0m \u001b[0;34m\u001b[0m\u001b[0m\n",
            "\u001b[0;32m/usr/local/lib/python3.7/dist-packages/tensorflow/python/framework/constant_op.py\u001b[0m in \u001b[0;36mconstant\u001b[0;34m(value, dtype, shape, name)\u001b[0m\n\u001b[1;32m    266\u001b[0m   \"\"\"\n\u001b[1;32m    267\u001b[0m   return _constant_impl(value, dtype, shape, name, verify_shape=False,\n\u001b[0;32m--> 268\u001b[0;31m                         allow_broadcast=True)\n\u001b[0m\u001b[1;32m    269\u001b[0m \u001b[0;34m\u001b[0m\u001b[0m\n\u001b[1;32m    270\u001b[0m \u001b[0;34m\u001b[0m\u001b[0m\n",
            "\u001b[0;32m/usr/local/lib/python3.7/dist-packages/tensorflow/python/framework/constant_op.py\u001b[0m in \u001b[0;36m_constant_impl\u001b[0;34m(value, dtype, shape, name, verify_shape, allow_broadcast)\u001b[0m\n\u001b[1;32m    277\u001b[0m       \u001b[0;32mwith\u001b[0m \u001b[0mtrace\u001b[0m\u001b[0;34m.\u001b[0m\u001b[0mTrace\u001b[0m\u001b[0;34m(\u001b[0m\u001b[0;34m\"tf.constant\"\u001b[0m\u001b[0;34m)\u001b[0m\u001b[0;34m:\u001b[0m\u001b[0;34m\u001b[0m\u001b[0;34m\u001b[0m\u001b[0m\n\u001b[1;32m    278\u001b[0m         \u001b[0;32mreturn\u001b[0m \u001b[0m_constant_eager_impl\u001b[0m\u001b[0;34m(\u001b[0m\u001b[0mctx\u001b[0m\u001b[0;34m,\u001b[0m \u001b[0mvalue\u001b[0m\u001b[0;34m,\u001b[0m \u001b[0mdtype\u001b[0m\u001b[0;34m,\u001b[0m \u001b[0mshape\u001b[0m\u001b[0;34m,\u001b[0m \u001b[0mverify_shape\u001b[0m\u001b[0;34m)\u001b[0m\u001b[0;34m\u001b[0m\u001b[0;34m\u001b[0m\u001b[0m\n\u001b[0;32m--> 279\u001b[0;31m     \u001b[0;32mreturn\u001b[0m \u001b[0m_constant_eager_impl\u001b[0m\u001b[0;34m(\u001b[0m\u001b[0mctx\u001b[0m\u001b[0;34m,\u001b[0m \u001b[0mvalue\u001b[0m\u001b[0;34m,\u001b[0m \u001b[0mdtype\u001b[0m\u001b[0;34m,\u001b[0m \u001b[0mshape\u001b[0m\u001b[0;34m,\u001b[0m \u001b[0mverify_shape\u001b[0m\u001b[0;34m)\u001b[0m\u001b[0;34m\u001b[0m\u001b[0;34m\u001b[0m\u001b[0m\n\u001b[0m\u001b[1;32m    280\u001b[0m \u001b[0;34m\u001b[0m\u001b[0m\n\u001b[1;32m    281\u001b[0m   \u001b[0mg\u001b[0m \u001b[0;34m=\u001b[0m \u001b[0mops\u001b[0m\u001b[0;34m.\u001b[0m\u001b[0mget_default_graph\u001b[0m\u001b[0;34m(\u001b[0m\u001b[0;34m)\u001b[0m\u001b[0;34m\u001b[0m\u001b[0;34m\u001b[0m\u001b[0m\n",
            "\u001b[0;32m/usr/local/lib/python3.7/dist-packages/tensorflow/python/framework/constant_op.py\u001b[0m in \u001b[0;36m_constant_eager_impl\u001b[0;34m(ctx, value, dtype, shape, verify_shape)\u001b[0m\n\u001b[1;32m    302\u001b[0m \u001b[0;32mdef\u001b[0m \u001b[0m_constant_eager_impl\u001b[0m\u001b[0;34m(\u001b[0m\u001b[0mctx\u001b[0m\u001b[0;34m,\u001b[0m \u001b[0mvalue\u001b[0m\u001b[0;34m,\u001b[0m \u001b[0mdtype\u001b[0m\u001b[0;34m,\u001b[0m \u001b[0mshape\u001b[0m\u001b[0;34m,\u001b[0m \u001b[0mverify_shape\u001b[0m\u001b[0;34m)\u001b[0m\u001b[0;34m:\u001b[0m\u001b[0;34m\u001b[0m\u001b[0;34m\u001b[0m\u001b[0m\n\u001b[1;32m    303\u001b[0m   \u001b[0;34m\"\"\"Creates a constant on the current device.\"\"\"\u001b[0m\u001b[0;34m\u001b[0m\u001b[0;34m\u001b[0m\u001b[0m\n\u001b[0;32m--> 304\u001b[0;31m   \u001b[0mt\u001b[0m \u001b[0;34m=\u001b[0m \u001b[0mconvert_to_eager_tensor\u001b[0m\u001b[0;34m(\u001b[0m\u001b[0mvalue\u001b[0m\u001b[0;34m,\u001b[0m \u001b[0mctx\u001b[0m\u001b[0;34m,\u001b[0m \u001b[0mdtype\u001b[0m\u001b[0;34m)\u001b[0m\u001b[0;34m\u001b[0m\u001b[0;34m\u001b[0m\u001b[0m\n\u001b[0m\u001b[1;32m    305\u001b[0m   \u001b[0;32mif\u001b[0m \u001b[0mshape\u001b[0m \u001b[0;32mis\u001b[0m \u001b[0;32mNone\u001b[0m\u001b[0;34m:\u001b[0m\u001b[0;34m\u001b[0m\u001b[0;34m\u001b[0m\u001b[0m\n\u001b[1;32m    306\u001b[0m     \u001b[0;32mreturn\u001b[0m \u001b[0mt\u001b[0m\u001b[0;34m\u001b[0m\u001b[0;34m\u001b[0m\u001b[0m\n",
            "\u001b[0;32m/usr/local/lib/python3.7/dist-packages/tensorflow/python/framework/constant_op.py\u001b[0m in \u001b[0;36mconvert_to_eager_tensor\u001b[0;34m(value, ctx, dtype)\u001b[0m\n\u001b[1;32m    100\u001b[0m       \u001b[0mdtype\u001b[0m \u001b[0;34m=\u001b[0m \u001b[0mdtypes\u001b[0m\u001b[0;34m.\u001b[0m\u001b[0mas_dtype\u001b[0m\u001b[0;34m(\u001b[0m\u001b[0mdtype\u001b[0m\u001b[0;34m)\u001b[0m\u001b[0;34m.\u001b[0m\u001b[0mas_datatype_enum\u001b[0m\u001b[0;34m\u001b[0m\u001b[0;34m\u001b[0m\u001b[0m\n\u001b[1;32m    101\u001b[0m   \u001b[0mctx\u001b[0m\u001b[0;34m.\u001b[0m\u001b[0mensure_initialized\u001b[0m\u001b[0;34m(\u001b[0m\u001b[0;34m)\u001b[0m\u001b[0;34m\u001b[0m\u001b[0;34m\u001b[0m\u001b[0m\n\u001b[0;32m--> 102\u001b[0;31m   \u001b[0;32mreturn\u001b[0m \u001b[0mops\u001b[0m\u001b[0;34m.\u001b[0m\u001b[0mEagerTensor\u001b[0m\u001b[0;34m(\u001b[0m\u001b[0mvalue\u001b[0m\u001b[0;34m,\u001b[0m \u001b[0mctx\u001b[0m\u001b[0;34m.\u001b[0m\u001b[0mdevice_name\u001b[0m\u001b[0;34m,\u001b[0m \u001b[0mdtype\u001b[0m\u001b[0;34m)\u001b[0m\u001b[0;34m\u001b[0m\u001b[0;34m\u001b[0m\u001b[0m\n\u001b[0m\u001b[1;32m    103\u001b[0m \u001b[0;34m\u001b[0m\u001b[0m\n\u001b[1;32m    104\u001b[0m \u001b[0;34m\u001b[0m\u001b[0m\n",
            "\u001b[0;31mValueError\u001b[0m: Failed to convert a NumPy array to a Tensor (Unsupported object type float)."
          ]
        }
      ],
      "source": [
        "keras.backend.clear_session()\n",
        "tf.random.set_seed(42)\n",
        "np.random.seed(42)\n",
        "\n",
        "window_size = 30\n",
        "train_set = window_dataset(x_train, window_size)\n",
        "valid_set = window_dataset(x_valid, window_size)\n",
        "\n",
        "model = keras.models.Sequential([\n",
        "  keras.layers.Dense(1, input_shape=[window_size])\n",
        "])\n",
        "optimizer = keras.optimizers.SGD(lr=1e-5, momentum=0.9)\n",
        "model.compile(loss=keras.losses.Huber(),\n",
        "              optimizer=optimizer,\n",
        "              metrics=[\"mae\"])\n",
        "model.fit(train_set, epochs=100, validation_data=valid_set)"
      ]
    },
    {
      "cell_type": "code",
      "execution_count": null,
      "metadata": {
        "id": "N3N8AGRM8OIc"
      },
      "outputs": [],
      "source": [
        "keras.backend.clear_session()\n",
        "tf.random.set_seed(42)\n",
        "np.random.seed(42)\n",
        "\n",
        "window_size = 30\n",
        "train_set = window_dataset(x_train, window_size)\n",
        "\n",
        "model = keras.models.Sequential([\n",
        "  keras.layers.Dense(1, input_shape=[window_size])\n",
        "])\n",
        "\n",
        "lr_schedule = keras.callbacks.LearningRateScheduler(\n",
        "    lambda epoch: 1e-6 * 10**(epoch / 30))\n",
        "optimizer = keras.optimizers.SGD(lr=1e-6, momentum=0.9)\n",
        "model.compile(loss=keras.losses.Huber(),\n",
        "              optimizer=optimizer,\n",
        "              metrics=[\"mae\"])\n",
        "history = model.fit(train_set, epochs=100, callbacks=[lr_schedule])"
      ]
    },
    {
      "cell_type": "code",
      "execution_count": null,
      "metadata": {
        "id": "PF9e7IDm8OId"
      },
      "outputs": [],
      "source": [
        "plt.semilogx(history.history[\"lr\"], history.history[\"loss\"])\n",
        "plt.axis([1e-6, 1e-3, 0, 20])"
      ]
    },
    {
      "cell_type": "code",
      "execution_count": null,
      "metadata": {
        "id": "uMNwyIFE8OIf"
      },
      "outputs": [],
      "source": [
        "keras.backend.clear_session()\n",
        "tf.random.set_seed(42)\n",
        "np.random.seed(42)\n",
        "\n",
        "window_size = 30\n",
        "train_set = window_dataset(x_train, window_size)\n",
        "valid_set = window_dataset(x_valid, window_size)\n",
        "\n",
        "model = keras.models.Sequential([\n",
        "  keras.layers.Dense(1, input_shape=[window_size])\n",
        "])\n",
        "optimizer = keras.optimizers.SGD(lr=1e-5, momentum=0.9)\n",
        "model.compile(loss=keras.losses.Huber(),\n",
        "              optimizer=optimizer,\n",
        "              metrics=[\"mae\"])\n",
        "early_stopping = keras.callbacks.EarlyStopping(patience=10)\n",
        "model.fit(train_set, epochs=500,\n",
        "          validation_data=valid_set,\n",
        "          callbacks=[early_stopping])"
      ]
    },
    {
      "cell_type": "code",
      "execution_count": null,
      "metadata": {
        "id": "_eaAX9g_jS5W"
      },
      "outputs": [],
      "source": [
        "def model_forecast(model, series, window_size):\n",
        "    ds = tf.data.Dataset.from_tensor_slices(series)\n",
        "    ds = ds.window(window_size, shift=1, drop_remainder=True)\n",
        "    ds = ds.flat_map(lambda w: w.batch(window_size))\n",
        "    ds = ds.batch(32).prefetch(1)\n",
        "    forecast = model.predict(ds)\n",
        "    return forecast"
      ]
    },
    {
      "cell_type": "code",
      "execution_count": null,
      "metadata": {
        "id": "FnIWROQ08OIj"
      },
      "outputs": [],
      "source": [
        "lin_forecast = model_forecast(model, series[split_time - window_size:-1], window_size)[:, 0]"
      ]
    },
    {
      "cell_type": "code",
      "execution_count": null,
      "metadata": {
        "id": "xd7Tj_fA8OIk"
      },
      "outputs": [],
      "source": [
        "lin_forecast.shape"
      ]
    },
    {
      "cell_type": "code",
      "execution_count": null,
      "metadata": {
        "id": "F-nftslfgQJs"
      },
      "outputs": [],
      "source": [
        "plt.figure(figsize=(10, 6))\n",
        "plot_series(time_valid, x_valid)\n",
        "plot_series(time_valid, lin_forecast)"
      ]
    },
    {
      "cell_type": "code",
      "execution_count": null,
      "metadata": {
        "id": "W4E_jXktf7iv"
      },
      "outputs": [],
      "source": [
        "keras.metrics.mean_absolute_error(x_valid, lin_forecast).numpy()"
      ]
    },
    {
      "cell_type": "markdown",
      "metadata": {
        "id": "9nEM33dZ8OIp"
      },
      "source": [
        "### Dense Model Forecasting"
      ]
    },
    {
      "cell_type": "code",
      "execution_count": 16,
      "metadata": {
        "id": "RhGTv4G_8OIp",
        "outputId": "94deacdd-36ad-4fee-fcd5-cc19bde6067b",
        "colab": {
          "base_uri": "https://localhost:8080/"
        }
      },
      "outputs": [
        {
          "output_type": "stream",
          "name": "stdout",
          "text": [
            "Epoch 1/100\n"
          ]
        },
        {
          "output_type": "stream",
          "name": "stderr",
          "text": [
            "/usr/local/lib/python3.7/dist-packages/keras/optimizer_v2/gradient_descent.py:102: UserWarning: The `lr` argument is deprecated, use `learning_rate` instead.\n",
            "  super(SGD, self).__init__(name, **kwargs)\n"
          ]
        },
        {
          "output_type": "stream",
          "name": "stdout",
          "text": [
            "31/31 [==============================] - 1s 3ms/step - loss: 43.8270 - mae: 44.3262 - lr: 1.0000e-07\n",
            "Epoch 2/100\n",
            "31/31 [==============================] - 0s 2ms/step - loss: 41.5210 - mae: 42.0202 - lr: 1.1220e-07\n",
            "Epoch 3/100\n",
            "31/31 [==============================] - 0s 3ms/step - loss: 38.6253 - mae: 39.1248 - lr: 1.2589e-07\n",
            "Epoch 4/100\n",
            "31/31 [==============================] - 0s 3ms/step - loss: 35.3203 - mae: 35.8201 - lr: 1.4125e-07\n",
            "Epoch 5/100\n",
            "31/31 [==============================] - 0s 2ms/step - loss: 31.5905 - mae: 32.0903 - lr: 1.5849e-07\n",
            "Epoch 6/100\n",
            "31/31 [==============================] - 0s 3ms/step - loss: 27.4033 - mae: 27.9022 - lr: 1.7783e-07\n",
            "Epoch 7/100\n",
            "31/31 [==============================] - 0s 3ms/step - loss: 22.7830 - mae: 23.2804 - lr: 1.9953e-07\n",
            "Epoch 8/100\n",
            "31/31 [==============================] - 0s 3ms/step - loss: 17.7632 - mae: 18.2594 - lr: 2.2387e-07\n",
            "Epoch 9/100\n",
            "31/31 [==============================] - 0s 3ms/step - loss: 12.6771 - mae: 13.1682 - lr: 2.5119e-07\n",
            "Epoch 10/100\n",
            "31/31 [==============================] - 0s 2ms/step - loss: 8.5974 - mae: 9.0856 - lr: 2.8184e-07\n",
            "Epoch 11/100\n",
            "31/31 [==============================] - 0s 2ms/step - loss: 6.8492 - mae: 7.3315 - lr: 3.1623e-07\n",
            "Epoch 12/100\n",
            "31/31 [==============================] - 0s 2ms/step - loss: 6.6324 - mae: 7.1175 - lr: 3.5481e-07\n",
            "Epoch 13/100\n",
            "31/31 [==============================] - 0s 3ms/step - loss: 6.6240 - mae: 7.1077 - lr: 3.9811e-07\n",
            "Epoch 14/100\n",
            "31/31 [==============================] - 0s 2ms/step - loss: 6.6150 - mae: 7.0992 - lr: 4.4668e-07\n",
            "Epoch 15/100\n",
            "31/31 [==============================] - 0s 3ms/step - loss: 6.6021 - mae: 7.0864 - lr: 5.0119e-07\n",
            "Epoch 16/100\n",
            "31/31 [==============================] - 0s 2ms/step - loss: 6.5907 - mae: 7.0744 - lr: 5.6234e-07\n",
            "Epoch 17/100\n",
            "31/31 [==============================] - 0s 2ms/step - loss: 6.5780 - mae: 7.0608 - lr: 6.3096e-07\n",
            "Epoch 18/100\n",
            "31/31 [==============================] - 0s 3ms/step - loss: 6.5633 - mae: 7.0463 - lr: 7.0795e-07\n",
            "Epoch 19/100\n",
            "31/31 [==============================] - 0s 3ms/step - loss: 6.5439 - mae: 7.0269 - lr: 7.9433e-07\n",
            "Epoch 20/100\n",
            "31/31 [==============================] - 0s 3ms/step - loss: 6.5262 - mae: 7.0090 - lr: 8.9125e-07\n",
            "Epoch 21/100\n",
            "31/31 [==============================] - 0s 2ms/step - loss: 6.5036 - mae: 6.9854 - lr: 1.0000e-06\n",
            "Epoch 22/100\n",
            "31/31 [==============================] - 0s 3ms/step - loss: 6.4846 - mae: 6.9654 - lr: 1.1220e-06\n",
            "Epoch 23/100\n",
            "31/31 [==============================] - 0s 3ms/step - loss: 6.4581 - mae: 6.9401 - lr: 1.2589e-06\n",
            "Epoch 24/100\n",
            "31/31 [==============================] - 0s 2ms/step - loss: 6.4487 - mae: 6.9276 - lr: 1.4125e-06\n",
            "Epoch 25/100\n",
            "31/31 [==============================] - 0s 3ms/step - loss: 6.4031 - mae: 6.8834 - lr: 1.5849e-06\n",
            "Epoch 26/100\n",
            "31/31 [==============================] - 0s 2ms/step - loss: 6.3747 - mae: 6.8538 - lr: 1.7783e-06\n",
            "Epoch 27/100\n",
            "31/31 [==============================] - 0s 3ms/step - loss: 6.3502 - mae: 6.8289 - lr: 1.9953e-06\n",
            "Epoch 28/100\n",
            "31/31 [==============================] - 0s 3ms/step - loss: 6.2981 - mae: 6.7802 - lr: 2.2387e-06\n",
            "Epoch 29/100\n",
            "31/31 [==============================] - 0s 2ms/step - loss: 6.2842 - mae: 6.7625 - lr: 2.5119e-06\n",
            "Epoch 30/100\n",
            "31/31 [==============================] - 0s 2ms/step - loss: 6.2212 - mae: 6.6987 - lr: 2.8184e-06\n",
            "Epoch 31/100\n",
            "31/31 [==============================] - 0s 3ms/step - loss: 6.2325 - mae: 6.7086 - lr: 3.1623e-06\n",
            "Epoch 32/100\n",
            "31/31 [==============================] - 0s 2ms/step - loss: 6.1728 - mae: 6.6505 - lr: 3.5481e-06\n",
            "Epoch 33/100\n",
            "31/31 [==============================] - 0s 3ms/step - loss: 6.1273 - mae: 6.6050 - lr: 3.9811e-06\n",
            "Epoch 34/100\n",
            "31/31 [==============================] - 0s 2ms/step - loss: 6.1122 - mae: 6.5893 - lr: 4.4668e-06\n",
            "Epoch 35/100\n",
            "31/31 [==============================] - 0s 3ms/step - loss: 6.1123 - mae: 6.5921 - lr: 5.0119e-06\n",
            "Epoch 36/100\n",
            "31/31 [==============================] - 0s 2ms/step - loss: 6.0450 - mae: 6.5217 - lr: 5.6234e-06\n",
            "Epoch 37/100\n",
            "31/31 [==============================] - 0s 3ms/step - loss: 6.0152 - mae: 6.4915 - lr: 6.3096e-06\n",
            "Epoch 38/100\n",
            "31/31 [==============================] - 0s 2ms/step - loss: 6.0342 - mae: 6.5135 - lr: 7.0795e-06\n",
            "Epoch 39/100\n",
            "31/31 [==============================] - 0s 3ms/step - loss: 6.0322 - mae: 6.5112 - lr: 7.9433e-06\n",
            "Epoch 40/100\n",
            "31/31 [==============================] - 0s 2ms/step - loss: 5.9744 - mae: 6.4509 - lr: 8.9125e-06\n",
            "Epoch 41/100\n",
            "31/31 [==============================] - 0s 2ms/step - loss: 5.9914 - mae: 6.4690 - lr: 1.0000e-05\n",
            "Epoch 42/100\n",
            "31/31 [==============================] - 0s 3ms/step - loss: 5.8855 - mae: 6.3654 - lr: 1.1220e-05\n",
            "Epoch 43/100\n",
            "31/31 [==============================] - 0s 2ms/step - loss: 5.8357 - mae: 6.3136 - lr: 1.2589e-05\n",
            "Epoch 44/100\n",
            "31/31 [==============================] - 0s 3ms/step - loss: 5.8881 - mae: 6.3705 - lr: 1.4125e-05\n",
            "Epoch 45/100\n",
            "31/31 [==============================] - 0s 3ms/step - loss: 5.7689 - mae: 6.2470 - lr: 1.5849e-05\n",
            "Epoch 46/100\n",
            "31/31 [==============================] - 0s 3ms/step - loss: 5.7805 - mae: 6.2587 - lr: 1.7783e-05\n",
            "Epoch 47/100\n",
            "31/31 [==============================] - 0s 3ms/step - loss: 5.8350 - mae: 6.3123 - lr: 1.9953e-05\n",
            "Epoch 48/100\n",
            "31/31 [==============================] - 0s 3ms/step - loss: 5.7155 - mae: 6.1955 - lr: 2.2387e-05\n",
            "Epoch 49/100\n",
            "31/31 [==============================] - 0s 3ms/step - loss: 5.7046 - mae: 6.1883 - lr: 2.5119e-05\n",
            "Epoch 50/100\n",
            "31/31 [==============================] - 0s 3ms/step - loss: 5.7044 - mae: 6.1864 - lr: 2.8184e-05\n",
            "Epoch 51/100\n",
            "31/31 [==============================] - 0s 2ms/step - loss: 5.7984 - mae: 6.2822 - lr: 3.1623e-05\n",
            "Epoch 52/100\n",
            "31/31 [==============================] - 0s 2ms/step - loss: 5.8983 - mae: 6.3823 - lr: 3.5481e-05\n",
            "Epoch 53/100\n",
            "31/31 [==============================] - 0s 2ms/step - loss: 5.7020 - mae: 6.1834 - lr: 3.9811e-05\n",
            "Epoch 54/100\n",
            "31/31 [==============================] - 0s 3ms/step - loss: 5.4734 - mae: 5.9536 - lr: 4.4668e-05\n",
            "Epoch 55/100\n",
            "31/31 [==============================] - 0s 2ms/step - loss: 5.7361 - mae: 6.2165 - lr: 5.0119e-05\n",
            "Epoch 56/100\n",
            "31/31 [==============================] - 0s 2ms/step - loss: 5.7525 - mae: 6.2323 - lr: 5.6234e-05\n",
            "Epoch 57/100\n",
            "31/31 [==============================] - 0s 3ms/step - loss: 5.4157 - mae: 5.8924 - lr: 6.3096e-05\n",
            "Epoch 58/100\n",
            "31/31 [==============================] - 0s 2ms/step - loss: 5.5249 - mae: 6.0040 - lr: 7.0795e-05\n",
            "Epoch 59/100\n",
            "31/31 [==============================] - 0s 2ms/step - loss: 5.2515 - mae: 5.7304 - lr: 7.9433e-05\n",
            "Epoch 60/100\n",
            "31/31 [==============================] - 0s 3ms/step - loss: 5.3036 - mae: 5.7855 - lr: 8.9125e-05\n",
            "Epoch 61/100\n",
            "31/31 [==============================] - 0s 3ms/step - loss: 5.6514 - mae: 6.1299 - lr: 1.0000e-04\n",
            "Epoch 62/100\n",
            "31/31 [==============================] - 0s 3ms/step - loss: 5.2128 - mae: 5.6914 - lr: 1.1220e-04\n",
            "Epoch 63/100\n",
            "31/31 [==============================] - 0s 3ms/step - loss: 4.9886 - mae: 5.4681 - lr: 1.2589e-04\n",
            "Epoch 64/100\n",
            "31/31 [==============================] - 0s 3ms/step - loss: 5.0252 - mae: 5.5017 - lr: 1.4125e-04\n",
            "Epoch 65/100\n",
            "31/31 [==============================] - 0s 2ms/step - loss: 5.1802 - mae: 5.6567 - lr: 1.5849e-04\n",
            "Epoch 66/100\n",
            "31/31 [==============================] - 0s 2ms/step - loss: 5.1125 - mae: 5.5875 - lr: 1.7783e-04\n",
            "Epoch 67/100\n",
            "31/31 [==============================] - 0s 2ms/step - loss: 4.9667 - mae: 5.4448 - lr: 1.9953e-04\n",
            "Epoch 68/100\n",
            "31/31 [==============================] - 0s 3ms/step - loss: 4.9380 - mae: 5.4167 - lr: 2.2387e-04\n",
            "Epoch 69/100\n",
            "31/31 [==============================] - 0s 3ms/step - loss: 4.9661 - mae: 5.4451 - lr: 2.5119e-04\n",
            "Epoch 70/100\n",
            "31/31 [==============================] - 0s 3ms/step - loss: 5.3596 - mae: 5.8432 - lr: 2.8184e-04\n",
            "Epoch 71/100\n",
            "31/31 [==============================] - 0s 3ms/step - loss: 6.4158 - mae: 6.8993 - lr: 3.1623e-04\n",
            "Epoch 72/100\n",
            "31/31 [==============================] - 0s 3ms/step - loss: 5.9898 - mae: 6.4753 - lr: 3.5481e-04\n",
            "Epoch 73/100\n",
            "31/31 [==============================] - 0s 2ms/step - loss: 5.7257 - mae: 6.2068 - lr: 3.9811e-04\n",
            "Epoch 74/100\n",
            "31/31 [==============================] - 0s 3ms/step - loss: 5.1286 - mae: 5.6095 - lr: 4.4668e-04\n",
            "Epoch 75/100\n",
            "31/31 [==============================] - 0s 2ms/step - loss: 5.3679 - mae: 5.8486 - lr: 5.0119e-04\n",
            "Epoch 76/100\n",
            "31/31 [==============================] - 0s 2ms/step - loss: 6.0076 - mae: 6.4879 - lr: 5.6234e-04\n",
            "Epoch 77/100\n",
            "31/31 [==============================] - 0s 2ms/step - loss: 6.6838 - mae: 7.1671 - lr: 6.3096e-04\n",
            "Epoch 78/100\n",
            "31/31 [==============================] - 0s 2ms/step - loss: 8.3094 - mae: 8.7955 - lr: 7.0795e-04\n",
            "Epoch 79/100\n",
            "31/31 [==============================] - 0s 3ms/step - loss: 5.9063 - mae: 6.3904 - lr: 7.9433e-04\n",
            "Epoch 80/100\n",
            "31/31 [==============================] - 0s 3ms/step - loss: 7.8527 - mae: 8.3409 - lr: 8.9125e-04\n",
            "Epoch 81/100\n",
            "31/31 [==============================] - 0s 3ms/step - loss: 5.4734 - mae: 5.9555 - lr: 0.0010\n",
            "Epoch 82/100\n",
            "31/31 [==============================] - 0s 3ms/step - loss: 11.1860 - mae: 11.6764 - lr: 0.0011\n",
            "Epoch 83/100\n",
            "31/31 [==============================] - 0s 3ms/step - loss: 6.0683 - mae: 6.5524 - lr: 0.0013\n",
            "Epoch 84/100\n",
            "31/31 [==============================] - 0s 2ms/step - loss: 13.2695 - mae: 13.7634 - lr: 0.0014\n",
            "Epoch 85/100\n",
            "31/31 [==============================] - 0s 3ms/step - loss: 13.1986 - mae: 13.6861 - lr: 0.0016\n",
            "Epoch 86/100\n",
            "31/31 [==============================] - 0s 3ms/step - loss: 18.5152 - mae: 19.0060 - lr: 0.0018\n",
            "Epoch 87/100\n",
            "31/31 [==============================] - 0s 2ms/step - loss: 33.1949 - mae: 33.6933 - lr: 0.0020\n",
            "Epoch 88/100\n",
            "31/31 [==============================] - 0s 3ms/step - loss: 33.4086 - mae: 33.9052 - lr: 0.0022\n",
            "Epoch 89/100\n",
            "31/31 [==============================] - 0s 3ms/step - loss: 40.9887 - mae: 41.4864 - lr: 0.0025\n",
            "Epoch 90/100\n",
            "31/31 [==============================] - 0s 3ms/step - loss: 40.0459 - mae: 40.5439 - lr: 0.0028\n",
            "Epoch 91/100\n",
            "31/31 [==============================] - 0s 3ms/step - loss: 37.8658 - mae: 38.3625 - lr: 0.0032\n",
            "Epoch 92/100\n",
            "31/31 [==============================] - 0s 2ms/step - loss: 30.8331 - mae: 31.3291 - lr: 0.0035\n",
            "Epoch 93/100\n",
            "31/31 [==============================] - 0s 3ms/step - loss: 38.5207 - mae: 39.0183 - lr: 0.0040\n",
            "Epoch 94/100\n",
            "31/31 [==============================] - 0s 2ms/step - loss: 37.3129 - mae: 37.8102 - lr: 0.0045\n",
            "Epoch 95/100\n",
            "31/31 [==============================] - 0s 2ms/step - loss: 36.1434 - mae: 36.6420 - lr: 0.0050\n",
            "Epoch 96/100\n",
            "31/31 [==============================] - 0s 3ms/step - loss: 33.2867 - mae: 33.7846 - lr: 0.0056\n",
            "Epoch 97/100\n",
            "31/31 [==============================] - 0s 3ms/step - loss: 31.6530 - mae: 32.1507 - lr: 0.0063\n",
            "Epoch 98/100\n",
            "31/31 [==============================] - 0s 2ms/step - loss: 17.5659 - mae: 18.0588 - lr: 0.0071\n",
            "Epoch 99/100\n",
            "31/31 [==============================] - 0s 3ms/step - loss: 15.7679 - mae: 16.2614 - lr: 0.0079\n",
            "Epoch 100/100\n",
            "31/31 [==============================] - 0s 2ms/step - loss: 15.6831 - mae: 16.1738 - lr: 0.0089\n"
          ]
        }
      ],
      "source": [
        "keras.backend.clear_session()\n",
        "tf.random.set_seed(42)\n",
        "np.random.seed(42)\n",
        "\n",
        "window_size = 30\n",
        "train_set = window_dataset(x_train, window_size)\n",
        "\n",
        "model = keras.models.Sequential([\n",
        "  keras.layers.Dense(10, activation=\"relu\", input_shape=[window_size]),\n",
        "  keras.layers.Dense(10, activation=\"relu\"),\n",
        "  keras.layers.Dense(1)\n",
        "])\n",
        "\n",
        "lr_schedule = keras.callbacks.LearningRateScheduler(\n",
        "    lambda epoch: 1e-7 * 10**(epoch / 20))\n",
        "optimizer = keras.optimizers.SGD(lr=1e-7, momentum=0.9)\n",
        "model.compile(loss=keras.losses.Huber(),\n",
        "              optimizer=optimizer,\n",
        "              metrics=[\"mae\"])\n",
        "history = model.fit(train_set, epochs=100, callbacks=[lr_schedule])"
      ]
    },
    {
      "cell_type": "code",
      "execution_count": 17,
      "metadata": {
        "id": "5g-nC_em8OIq",
        "outputId": "a1d3ae99-cc8f-4b31-fdfc-5d1717640cc5",
        "colab": {
          "base_uri": "https://localhost:8080/",
          "height": 291
        }
      },
      "outputs": [
        {
          "output_type": "execute_result",
          "data": {
            "text/plain": [
              "(1e-07, 0.005, 0.0, 30.0)"
            ]
          },
          "metadata": {},
          "execution_count": 17
        },
        {
          "output_type": "display_data",
          "data": {
            "text/plain": [
              "<Figure size 432x288 with 1 Axes>"
            ],
            "image/png": "[encoded data removed]"
          },
          "metadata": {
            "needs_background": "light"
          }
        }
      ],
      "source": [
        "plt.semilogx(history.history[\"lr\"], history.history[\"loss\"])\n",
        "plt.axis([1e-7, 5e-3, 0, 30])"
      ]
    },
    {
      "cell_type": "code",
      "execution_count": 18,
      "metadata": {
        "id": "B7t0VrCH8OIr",
        "outputId": "92359457-9994-4d61-afb6-c28b4d83e17f",
        "colab": {
          "base_uri": "https://localhost:8080/"
        }
      },
      "outputs": [
        {
          "output_type": "stream",
          "name": "stdout",
          "text": [
            "Epoch 1/500\n"
          ]
        },
        {
          "output_type": "stream",
          "name": "stderr",
          "text": [
            "/usr/local/lib/python3.7/dist-packages/keras/optimizer_v2/gradient_descent.py:102: UserWarning: The `lr` argument is deprecated, use `learning_rate` instead.\n",
            "  super(SGD, self).__init__(name, **kwargs)\n"
          ]
        },
        {
          "output_type": "stream",
          "name": "stdout",
          "text": [
            "31/31 [==============================] - 1s 13ms/step - loss: 20.4049 - mae: 20.8986 - val_loss: 9.5125 - val_mae: 10.0037\n",
            "Epoch 2/500\n",
            "31/31 [==============================] - 0s 7ms/step - loss: 8.6179 - mae: 9.1027 - val_loss: 7.5804 - val_mae: 8.0585\n",
            "Epoch 3/500\n",
            "31/31 [==============================] - 0s 7ms/step - loss: 7.9849 - mae: 8.4702 - val_loss: 7.2411 - val_mae: 7.7189\n",
            "Epoch 4/500\n",
            "31/31 [==============================] - 0s 9ms/step - loss: 7.6780 - mae: 8.1603 - val_loss: 7.0971 - val_mae: 7.5798\n",
            "Epoch 5/500\n",
            "31/31 [==============================] - 0s 8ms/step - loss: 7.4285 - mae: 7.9136 - val_loss: 6.6877 - val_mae: 7.1663\n",
            "Epoch 6/500\n",
            "31/31 [==============================] - 0s 8ms/step - loss: 7.2165 - mae: 7.6989 - val_loss: 6.7449 - val_mae: 7.2319\n",
            "Epoch 7/500\n",
            "31/31 [==============================] - 0s 7ms/step - loss: 7.0491 - mae: 7.5318 - val_loss: 6.3436 - val_mae: 6.8156\n",
            "Epoch 8/500\n",
            "31/31 [==============================] - 0s 7ms/step - loss: 6.9028 - mae: 7.3848 - val_loss: 6.5575 - val_mae: 7.0435\n",
            "Epoch 9/500\n",
            "31/31 [==============================] - 0s 8ms/step - loss: 6.7285 - mae: 7.2134 - val_loss: 6.1564 - val_mae: 6.6327\n",
            "Epoch 10/500\n",
            "31/31 [==============================] - 0s 6ms/step - loss: 6.5739 - mae: 7.0545 - val_loss: 6.1365 - val_mae: 6.6166\n",
            "Epoch 11/500\n",
            "31/31 [==============================] - 0s 6ms/step - loss: 6.4917 - mae: 6.9751 - val_loss: 6.0710 - val_mae: 6.5529\n",
            "Epoch 12/500\n",
            "31/31 [==============================] - 0s 8ms/step - loss: 6.3698 - mae: 6.8519 - val_loss: 6.0569 - val_mae: 6.5385\n",
            "Epoch 13/500\n",
            "31/31 [==============================] - 0s 6ms/step - loss: 6.2862 - mae: 6.7685 - val_loss: 5.8964 - val_mae: 6.3704\n",
            "Epoch 14/500\n",
            "31/31 [==============================] - 0s 8ms/step - loss: 6.2392 - mae: 6.7235 - val_loss: 5.9185 - val_mae: 6.4008\n",
            "Epoch 15/500\n",
            "31/31 [==============================] - 0s 7ms/step - loss: 6.2024 - mae: 6.6859 - val_loss: 5.8176 - val_mae: 6.2957\n",
            "Epoch 16/500\n",
            "31/31 [==============================] - 0s 8ms/step - loss: 6.1559 - mae: 6.6389 - val_loss: 5.8143 - val_mae: 6.2939\n",
            "Epoch 17/500\n",
            "31/31 [==============================] - 0s 9ms/step - loss: 6.1469 - mae: 6.6283 - val_loss: 5.7770 - val_mae: 6.2569\n",
            "Epoch 18/500\n",
            "31/31 [==============================] - 0s 8ms/step - loss: 6.0487 - mae: 6.5312 - val_loss: 5.8036 - val_mae: 6.2811\n",
            "Epoch 19/500\n",
            "31/31 [==============================] - 0s 8ms/step - loss: 6.0462 - mae: 6.5311 - val_loss: 5.8459 - val_mae: 6.3204\n",
            "Epoch 20/500\n",
            "31/31 [==============================] - 0s 6ms/step - loss: 5.9691 - mae: 6.4515 - val_loss: 5.7281 - val_mae: 6.2104\n",
            "Epoch 21/500\n",
            "31/31 [==============================] - 0s 7ms/step - loss: 5.9475 - mae: 6.4314 - val_loss: 5.6406 - val_mae: 6.1186\n",
            "Epoch 22/500\n",
            "31/31 [==============================] - 0s 7ms/step - loss: 5.9024 - mae: 6.3848 - val_loss: 5.6382 - val_mae: 6.1190\n",
            "Epoch 23/500\n",
            "31/31 [==============================] - 0s 7ms/step - loss: 5.8469 - mae: 6.3291 - val_loss: 5.9977 - val_mae: 6.4816\n",
            "Epoch 24/500\n",
            "31/31 [==============================] - 0s 7ms/step - loss: 5.8802 - mae: 6.3612 - val_loss: 5.6908 - val_mae: 6.1675\n",
            "Epoch 25/500\n",
            "31/31 [==============================] - 0s 6ms/step - loss: 5.7917 - mae: 6.2766 - val_loss: 5.6000 - val_mae: 6.0798\n",
            "Epoch 26/500\n",
            "31/31 [==============================] - 0s 7ms/step - loss: 5.8217 - mae: 6.3069 - val_loss: 5.5738 - val_mae: 6.0552\n",
            "Epoch 27/500\n",
            "31/31 [==============================] - 0s 6ms/step - loss: 5.7690 - mae: 6.2534 - val_loss: 5.7255 - val_mae: 6.2086\n",
            "Epoch 28/500\n",
            "31/31 [==============================] - 0s 6ms/step - loss: 5.8085 - mae: 6.2930 - val_loss: 5.5122 - val_mae: 5.9927\n",
            "Epoch 29/500\n",
            "31/31 [==============================] - 0s 7ms/step - loss: 5.7321 - mae: 6.2148 - val_loss: 5.6341 - val_mae: 6.1126\n",
            "Epoch 30/500\n",
            "31/31 [==============================] - 0s 6ms/step - loss: 5.6991 - mae: 6.1808 - val_loss: 5.5333 - val_mae: 6.0103\n",
            "Epoch 31/500\n",
            "31/31 [==============================] - 0s 8ms/step - loss: 5.6720 - mae: 6.1514 - val_loss: 5.5871 - val_mae: 6.0643\n",
            "Epoch 32/500\n",
            "31/31 [==============================] - 0s 8ms/step - loss: 5.6642 - mae: 6.1479 - val_loss: 5.6710 - val_mae: 6.1541\n",
            "Epoch 33/500\n",
            "31/31 [==============================] - 0s 8ms/step - loss: 5.6133 - mae: 6.0965 - val_loss: 5.5384 - val_mae: 6.0146\n",
            "Epoch 34/500\n",
            "31/31 [==============================] - 0s 8ms/step - loss: 5.6377 - mae: 6.1193 - val_loss: 5.5215 - val_mae: 5.9972\n",
            "Epoch 35/500\n",
            "31/31 [==============================] - 0s 8ms/step - loss: 5.5874 - mae: 6.0645 - val_loss: 5.3812 - val_mae: 5.8583\n",
            "Epoch 36/500\n",
            "31/31 [==============================] - 0s 7ms/step - loss: 5.6027 - mae: 6.0879 - val_loss: 5.4237 - val_mae: 5.9048\n",
            "Epoch 37/500\n",
            "31/31 [==============================] - 0s 6ms/step - loss: 5.6141 - mae: 6.0915 - val_loss: 5.4910 - val_mae: 5.9729\n",
            "Epoch 38/500\n",
            "31/31 [==============================] - 0s 8ms/step - loss: 5.5909 - mae: 6.0724 - val_loss: 5.8065 - val_mae: 6.2873\n",
            "Epoch 39/500\n",
            "31/31 [==============================] - 0s 8ms/step - loss: 5.5284 - mae: 6.0080 - val_loss: 6.0727 - val_mae: 6.5558\n",
            "Epoch 40/500\n",
            "31/31 [==============================] - 0s 8ms/step - loss: 5.5446 - mae: 6.0267 - val_loss: 5.3343 - val_mae: 5.8174\n",
            "Epoch 41/500\n",
            "31/31 [==============================] - 0s 8ms/step - loss: 5.5197 - mae: 6.0011 - val_loss: 5.3013 - val_mae: 5.7805\n",
            "Epoch 42/500\n",
            "31/31 [==============================] - 0s 9ms/step - loss: 5.4749 - mae: 5.9566 - val_loss: 5.3074 - val_mae: 5.7903\n",
            "Epoch 43/500\n",
            "31/31 [==============================] - 0s 8ms/step - loss: 5.4665 - mae: 5.9480 - val_loss: 5.3096 - val_mae: 5.7900\n",
            "Epoch 44/500\n",
            "31/31 [==============================] - 0s 6ms/step - loss: 5.4397 - mae: 5.9217 - val_loss: 5.3484 - val_mae: 5.8242\n",
            "Epoch 45/500\n",
            "31/31 [==============================] - 0s 8ms/step - loss: 5.4373 - mae: 5.9183 - val_loss: 5.6576 - val_mae: 6.1352\n",
            "Epoch 46/500\n",
            "31/31 [==============================] - 0s 8ms/step - loss: 5.4640 - mae: 5.9452 - val_loss: 5.7575 - val_mae: 6.2423\n",
            "Epoch 47/500\n",
            "31/31 [==============================] - 0s 8ms/step - loss: 5.4859 - mae: 5.9670 - val_loss: 5.9034 - val_mae: 6.3868\n",
            "Epoch 48/500\n",
            "31/31 [==============================] - 0s 9ms/step - loss: 5.4198 - mae: 5.9016 - val_loss: 5.2066 - val_mae: 5.6867\n",
            "Epoch 49/500\n",
            "31/31 [==============================] - 0s 8ms/step - loss: 5.3805 - mae: 5.8602 - val_loss: 5.2942 - val_mae: 5.7708\n",
            "Epoch 50/500\n",
            "31/31 [==============================] - 0s 7ms/step - loss: 5.4262 - mae: 5.9075 - val_loss: 5.4608 - val_mae: 5.9444\n",
            "Epoch 51/500\n",
            "31/31 [==============================] - 0s 6ms/step - loss: 5.3880 - mae: 5.8703 - val_loss: 5.4590 - val_mae: 5.9310\n",
            "Epoch 52/500\n",
            "31/31 [==============================] - 0s 9ms/step - loss: 5.3822 - mae: 5.8613 - val_loss: 5.5157 - val_mae: 5.9894\n",
            "Epoch 53/500\n",
            "31/31 [==============================] - 0s 6ms/step - loss: 5.3546 - mae: 5.8377 - val_loss: 5.2389 - val_mae: 5.7165\n",
            "Epoch 54/500\n",
            "31/31 [==============================] - 0s 8ms/step - loss: 5.3461 - mae: 5.8288 - val_loss: 5.1781 - val_mae: 5.6589\n",
            "Epoch 55/500\n",
            "31/31 [==============================] - 0s 6ms/step - loss: 5.2768 - mae: 5.7589 - val_loss: 5.1607 - val_mae: 5.6413\n",
            "Epoch 56/500\n",
            "31/31 [==============================] - 0s 8ms/step - loss: 5.2539 - mae: 5.7373 - val_loss: 5.4277 - val_mae: 5.9119\n",
            "Epoch 57/500\n",
            "31/31 [==============================] - 0s 6ms/step - loss: 5.3347 - mae: 5.8184 - val_loss: 5.7525 - val_mae: 6.2344\n",
            "Epoch 58/500\n",
            "31/31 [==============================] - 0s 9ms/step - loss: 5.2696 - mae: 5.7501 - val_loss: 5.2096 - val_mae: 5.6877\n",
            "Epoch 59/500\n",
            "31/31 [==============================] - 0s 8ms/step - loss: 5.2272 - mae: 5.7103 - val_loss: 5.2327 - val_mae: 5.7112\n",
            "Epoch 60/500\n",
            "31/31 [==============================] - 0s 7ms/step - loss: 5.2658 - mae: 5.7458 - val_loss: 5.0744 - val_mae: 5.5567\n",
            "Epoch 61/500\n",
            "31/31 [==============================] - 0s 8ms/step - loss: 5.2125 - mae: 5.6927 - val_loss: 5.6904 - val_mae: 6.1728\n",
            "Epoch 62/500\n",
            "31/31 [==============================] - 0s 7ms/step - loss: 5.2602 - mae: 5.7420 - val_loss: 5.1116 - val_mae: 5.5904\n",
            "Epoch 63/500\n",
            "31/31 [==============================] - 0s 8ms/step - loss: 5.1874 - mae: 5.6697 - val_loss: 5.0692 - val_mae: 5.5508\n",
            "Epoch 64/500\n",
            "31/31 [==============================] - 0s 8ms/step - loss: 5.1751 - mae: 5.6555 - val_loss: 5.2834 - val_mae: 5.7662\n",
            "Epoch 65/500\n",
            "31/31 [==============================] - 0s 8ms/step - loss: 5.2088 - mae: 5.6886 - val_loss: 5.0484 - val_mae: 5.5301\n",
            "Epoch 66/500\n",
            "31/31 [==============================] - 0s 8ms/step - loss: 5.1744 - mae: 5.6535 - val_loss: 5.1831 - val_mae: 5.6589\n",
            "Epoch 67/500\n",
            "31/31 [==============================] - 0s 7ms/step - loss: 5.1534 - mae: 5.6338 - val_loss: 5.0369 - val_mae: 5.5184\n",
            "Epoch 68/500\n",
            "31/31 [==============================] - 0s 8ms/step - loss: 5.1575 - mae: 5.6382 - val_loss: 5.0227 - val_mae: 5.5027\n",
            "Epoch 69/500\n",
            "31/31 [==============================] - 0s 6ms/step - loss: 5.1541 - mae: 5.6362 - val_loss: 5.1051 - val_mae: 5.5804\n",
            "Epoch 70/500\n",
            "31/31 [==============================] - 0s 8ms/step - loss: 5.1305 - mae: 5.6106 - val_loss: 5.2578 - val_mae: 5.7416\n",
            "Epoch 71/500\n",
            "31/31 [==============================] - 0s 8ms/step - loss: 5.0891 - mae: 5.5636 - val_loss: 5.0369 - val_mae: 5.5136\n",
            "Epoch 72/500\n",
            "31/31 [==============================] - 0s 7ms/step - loss: 5.0904 - mae: 5.5700 - val_loss: 5.1257 - val_mae: 5.5994\n",
            "Epoch 73/500\n",
            "31/31 [==============================] - 0s 7ms/step - loss: 5.1134 - mae: 5.5959 - val_loss: 5.0332 - val_mae: 5.5098\n",
            "Epoch 74/500\n",
            "31/31 [==============================] - 0s 7ms/step - loss: 5.1160 - mae: 5.5939 - val_loss: 5.0354 - val_mae: 5.5141\n",
            "Epoch 75/500\n",
            "31/31 [==============================] - 0s 7ms/step - loss: 5.0561 - mae: 5.5355 - val_loss: 4.9754 - val_mae: 5.4559\n",
            "Epoch 76/500\n",
            "31/31 [==============================] - 0s 9ms/step - loss: 5.0500 - mae: 5.5295 - val_loss: 4.9669 - val_mae: 5.4473\n",
            "Epoch 77/500\n",
            "31/31 [==============================] - 0s 7ms/step - loss: 5.0397 - mae: 5.5198 - val_loss: 4.9841 - val_mae: 5.4657\n",
            "Epoch 78/500\n",
            "31/31 [==============================] - 0s 7ms/step - loss: 5.0633 - mae: 5.5433 - val_loss: 4.9915 - val_mae: 5.4689\n",
            "Epoch 79/500\n",
            "31/31 [==============================] - 0s 9ms/step - loss: 5.0161 - mae: 5.4968 - val_loss: 5.2080 - val_mae: 5.6843\n",
            "Epoch 80/500\n",
            "31/31 [==============================] - 0s 6ms/step - loss: 5.0274 - mae: 5.5082 - val_loss: 4.9782 - val_mae: 5.4590\n",
            "Epoch 81/500\n",
            "31/31 [==============================] - 0s 8ms/step - loss: 4.9629 - mae: 5.4395 - val_loss: 4.9678 - val_mae: 5.4490\n",
            "Epoch 82/500\n",
            "31/31 [==============================] - 0s 7ms/step - loss: 4.9942 - mae: 5.4722 - val_loss: 5.2049 - val_mae: 5.6827\n",
            "Epoch 83/500\n",
            "31/31 [==============================] - 0s 7ms/step - loss: 4.9730 - mae: 5.4516 - val_loss: 5.0278 - val_mae: 5.4998\n",
            "Epoch 84/500\n",
            "31/31 [==============================] - 0s 9ms/step - loss: 4.9698 - mae: 5.4500 - val_loss: 4.9309 - val_mae: 5.4122\n",
            "Epoch 85/500\n",
            "31/31 [==============================] - 0s 6ms/step - loss: 4.9676 - mae: 5.4458 - val_loss: 4.9285 - val_mae: 5.4099\n",
            "Epoch 86/500\n",
            "31/31 [==============================] - 0s 8ms/step - loss: 4.9898 - mae: 5.4698 - val_loss: 4.9307 - val_mae: 5.4135\n",
            "Epoch 87/500\n",
            "31/31 [==============================] - 0s 7ms/step - loss: 4.9521 - mae: 5.4326 - val_loss: 5.0003 - val_mae: 5.4712\n",
            "Epoch 88/500\n",
            "31/31 [==============================] - 0s 8ms/step - loss: 4.9209 - mae: 5.4001 - val_loss: 4.9297 - val_mae: 5.4065\n",
            "Epoch 89/500\n",
            "31/31 [==============================] - 0s 7ms/step - loss: 4.9469 - mae: 5.4234 - val_loss: 4.9102 - val_mae: 5.3918\n",
            "Epoch 90/500\n",
            "31/31 [==============================] - 0s 8ms/step - loss: 4.9656 - mae: 5.4439 - val_loss: 4.9475 - val_mae: 5.4207\n",
            "Epoch 91/500\n",
            "31/31 [==============================] - 0s 8ms/step - loss: 4.9077 - mae: 5.3837 - val_loss: 5.2979 - val_mae: 5.7770\n",
            "Epoch 92/500\n",
            "31/31 [==============================] - 0s 9ms/step - loss: 4.9466 - mae: 5.4274 - val_loss: 4.9204 - val_mae: 5.4007\n",
            "Epoch 93/500\n",
            "31/31 [==============================] - 0s 8ms/step - loss: 4.8801 - mae: 5.3606 - val_loss: 5.2442 - val_mae: 5.7228\n",
            "Epoch 94/500\n",
            "31/31 [==============================] - 0s 8ms/step - loss: 4.8994 - mae: 5.3776 - val_loss: 5.0214 - val_mae: 5.4928\n",
            "Epoch 95/500\n",
            "31/31 [==============================] - 0s 7ms/step - loss: 4.8727 - mae: 5.3513 - val_loss: 4.8865 - val_mae: 5.3652\n",
            "Epoch 96/500\n",
            "31/31 [==============================] - 0s 7ms/step - loss: 4.8795 - mae: 5.3570 - val_loss: 4.8865 - val_mae: 5.3673\n",
            "Epoch 97/500\n",
            "31/31 [==============================] - 0s 8ms/step - loss: 4.8868 - mae: 5.3668 - val_loss: 4.8741 - val_mae: 5.3554\n",
            "Epoch 98/500\n",
            "31/31 [==============================] - 0s 9ms/step - loss: 4.8808 - mae: 5.3592 - val_loss: 4.8602 - val_mae: 5.3408\n",
            "Epoch 99/500\n",
            "31/31 [==============================] - 0s 8ms/step - loss: 4.8471 - mae: 5.3256 - val_loss: 4.8552 - val_mae: 5.3356\n",
            "Epoch 100/500\n",
            "31/31 [==============================] - 0s 8ms/step - loss: 4.8479 - mae: 5.3255 - val_loss: 4.8525 - val_mae: 5.3327\n",
            "Epoch 101/500\n",
            "31/31 [==============================] - 0s 6ms/step - loss: 4.8653 - mae: 5.3406 - val_loss: 4.8489 - val_mae: 5.3295\n",
            "Epoch 102/500\n",
            "31/31 [==============================] - 0s 8ms/step - loss: 4.8551 - mae: 5.3323 - val_loss: 4.8471 - val_mae: 5.3287\n",
            "Epoch 103/500\n",
            "31/31 [==============================] - 0s 9ms/step - loss: 4.8306 - mae: 5.3099 - val_loss: 4.8481 - val_mae: 5.3292\n",
            "Epoch 104/500\n",
            "31/31 [==============================] - 0s 7ms/step - loss: 4.8556 - mae: 5.3320 - val_loss: 4.8353 - val_mae: 5.3144\n",
            "Epoch 105/500\n",
            "31/31 [==============================] - 0s 9ms/step - loss: 4.8136 - mae: 5.2912 - val_loss: 5.3163 - val_mae: 5.8016\n",
            "Epoch 106/500\n",
            "31/31 [==============================] - 0s 7ms/step - loss: 4.9170 - mae: 5.3932 - val_loss: 4.9734 - val_mae: 5.4454\n",
            "Epoch 107/500\n",
            "31/31 [==============================] - 0s 8ms/step - loss: 4.8636 - mae: 5.3387 - val_loss: 4.9875 - val_mae: 5.4577\n",
            "Epoch 108/500\n",
            "31/31 [==============================] - 0s 7ms/step - loss: 4.8161 - mae: 5.2935 - val_loss: 4.8249 - val_mae: 5.3072\n",
            "Epoch 109/500\n",
            "31/31 [==============================] - 0s 8ms/step - loss: 4.7934 - mae: 5.2684 - val_loss: 5.3332 - val_mae: 5.8128\n",
            "Epoch 110/500\n",
            "31/31 [==============================] - 0s 7ms/step - loss: 4.8247 - mae: 5.3031 - val_loss: 4.8576 - val_mae: 5.3363\n",
            "Epoch 111/500\n",
            "31/31 [==============================] - 0s 9ms/step - loss: 4.8192 - mae: 5.2967 - val_loss: 4.8143 - val_mae: 5.2924\n",
            "Epoch 112/500\n",
            "31/31 [==============================] - 0s 9ms/step - loss: 4.8120 - mae: 5.2869 - val_loss: 4.8396 - val_mae: 5.3194\n",
            "Epoch 113/500\n",
            "31/31 [==============================] - 0s 8ms/step - loss: 4.7951 - mae: 5.2737 - val_loss: 4.8295 - val_mae: 5.3095\n",
            "Epoch 114/500\n",
            "31/31 [==============================] - 0s 8ms/step - loss: 4.8072 - mae: 5.2841 - val_loss: 4.9524 - val_mae: 5.4232\n",
            "Epoch 115/500\n",
            "31/31 [==============================] - 0s 8ms/step - loss: 4.7906 - mae: 5.2679 - val_loss: 4.8346 - val_mae: 5.3121\n",
            "Epoch 116/500\n",
            "31/31 [==============================] - 0s 8ms/step - loss: 4.7736 - mae: 5.2540 - val_loss: 4.8053 - val_mae: 5.2867\n",
            "Epoch 117/500\n",
            "31/31 [==============================] - 0s 8ms/step - loss: 4.7790 - mae: 5.2556 - val_loss: 4.9063 - val_mae: 5.3782\n",
            "Epoch 118/500\n",
            "31/31 [==============================] - 0s 7ms/step - loss: 4.9092 - mae: 5.3913 - val_loss: 4.8032 - val_mae: 5.2814\n",
            "Epoch 119/500\n",
            "31/31 [==============================] - 0s 7ms/step - loss: 4.7897 - mae: 5.2676 - val_loss: 4.8939 - val_mae: 5.3669\n",
            "Epoch 120/500\n",
            "31/31 [==============================] - 0s 8ms/step - loss: 4.7613 - mae: 5.2389 - val_loss: 4.8447 - val_mae: 5.3209\n",
            "Epoch 121/500\n",
            "31/31 [==============================] - 0s 9ms/step - loss: 4.7511 - mae: 5.2276 - val_loss: 4.8397 - val_mae: 5.3164\n",
            "Epoch 122/500\n",
            "31/31 [==============================] - 0s 9ms/step - loss: 4.7653 - mae: 5.2440 - val_loss: 4.9183 - val_mae: 5.3906\n",
            "Epoch 123/500\n",
            "31/31 [==============================] - 0s 8ms/step - loss: 4.7959 - mae: 5.2753 - val_loss: 4.7707 - val_mae: 5.2476\n",
            "Epoch 124/500\n",
            "31/31 [==============================] - 0s 6ms/step - loss: 4.7766 - mae: 5.2513 - val_loss: 4.7665 - val_mae: 5.2440\n",
            "Epoch 125/500\n",
            "31/31 [==============================] - 0s 8ms/step - loss: 4.7814 - mae: 5.2602 - val_loss: 4.7709 - val_mae: 5.2495\n",
            "Epoch 126/500\n",
            "31/31 [==============================] - 0s 7ms/step - loss: 4.7547 - mae: 5.2327 - val_loss: 4.7648 - val_mae: 5.2428\n",
            "Epoch 127/500\n",
            "31/31 [==============================] - 0s 7ms/step - loss: 4.7337 - mae: 5.2090 - val_loss: 4.8925 - val_mae: 5.3660\n",
            "Epoch 128/500\n",
            "31/31 [==============================] - 0s 8ms/step - loss: 4.7231 - mae: 5.2004 - val_loss: 4.7861 - val_mae: 5.2643\n",
            "Epoch 129/500\n",
            "31/31 [==============================] - 0s 8ms/step - loss: 4.7312 - mae: 5.2095 - val_loss: 4.7655 - val_mae: 5.2437\n",
            "Epoch 130/500\n",
            "31/31 [==============================] - 0s 9ms/step - loss: 4.7267 - mae: 5.2040 - val_loss: 4.7819 - val_mae: 5.2601\n",
            "Epoch 131/500\n",
            "31/31 [==============================] - 0s 8ms/step - loss: 4.8444 - mae: 5.3232 - val_loss: 4.9965 - val_mae: 5.4721\n",
            "Epoch 132/500\n",
            "31/31 [==============================] - 0s 9ms/step - loss: 4.7132 - mae: 5.1888 - val_loss: 4.8432 - val_mae: 5.3246\n",
            "Epoch 133/500\n",
            "31/31 [==============================] - 0s 9ms/step - loss: 4.7116 - mae: 5.1851 - val_loss: 4.7525 - val_mae: 5.2311\n",
            "Epoch 134/500\n",
            "31/31 [==============================] - 0s 7ms/step - loss: 4.7332 - mae: 5.2071 - val_loss: 4.7661 - val_mae: 5.2428\n",
            "Epoch 135/500\n",
            "31/31 [==============================] - 0s 8ms/step - loss: 4.6982 - mae: 5.1762 - val_loss: 4.7733 - val_mae: 5.2507\n",
            "Epoch 136/500\n",
            "31/31 [==============================] - 0s 7ms/step - loss: 4.7233 - mae: 5.2013 - val_loss: 4.7833 - val_mae: 5.2613\n",
            "Epoch 137/500\n",
            "31/31 [==============================] - 0s 8ms/step - loss: 4.6844 - mae: 5.1625 - val_loss: 4.7817 - val_mae: 5.2603\n",
            "Epoch 138/500\n",
            "31/31 [==============================] - 0s 9ms/step - loss: 4.7006 - mae: 5.1761 - val_loss: 4.7402 - val_mae: 5.2175\n",
            "Epoch 139/500\n",
            "31/31 [==============================] - 0s 7ms/step - loss: 4.7188 - mae: 5.1966 - val_loss: 4.7549 - val_mae: 5.2319\n",
            "Epoch 140/500\n",
            "31/31 [==============================] - 0s 6ms/step - loss: 4.7832 - mae: 5.2612 - val_loss: 4.7764 - val_mae: 5.2548\n",
            "Epoch 141/500\n",
            "31/31 [==============================] - 0s 6ms/step - loss: 4.6848 - mae: 5.1601 - val_loss: 4.7251 - val_mae: 5.2023\n",
            "Epoch 142/500\n",
            "31/31 [==============================] - 0s 8ms/step - loss: 4.6835 - mae: 5.1576 - val_loss: 5.0954 - val_mae: 5.5717\n",
            "Epoch 143/500\n",
            "31/31 [==============================] - 0s 7ms/step - loss: 4.6978 - mae: 5.1762 - val_loss: 4.9924 - val_mae: 5.4680\n",
            "Epoch 144/500\n",
            "31/31 [==============================] - 0s 8ms/step - loss: 4.6690 - mae: 5.1458 - val_loss: 4.7208 - val_mae: 5.1963\n",
            "Epoch 145/500\n",
            "31/31 [==============================] - 0s 8ms/step - loss: 4.6886 - mae: 5.1673 - val_loss: 4.7512 - val_mae: 5.2292\n",
            "Epoch 146/500\n",
            "31/31 [==============================] - 0s 7ms/step - loss: 4.6627 - mae: 5.1376 - val_loss: 4.7311 - val_mae: 5.2084\n",
            "Epoch 147/500\n",
            "31/31 [==============================] - 0s 7ms/step - loss: 4.6506 - mae: 5.1225 - val_loss: 4.9450 - val_mae: 5.4194\n",
            "Epoch 148/500\n",
            "31/31 [==============================] - 0s 9ms/step - loss: 4.6968 - mae: 5.1762 - val_loss: 4.7605 - val_mae: 5.2392\n",
            "Epoch 149/500\n",
            "31/31 [==============================] - 0s 7ms/step - loss: 4.6838 - mae: 5.1613 - val_loss: 4.9710 - val_mae: 5.4454\n",
            "Epoch 150/500\n",
            "31/31 [==============================] - 0s 6ms/step - loss: 4.6996 - mae: 5.1714 - val_loss: 4.7135 - val_mae: 5.1892\n",
            "Epoch 151/500\n",
            "31/31 [==============================] - 0s 7ms/step - loss: 4.6514 - mae: 5.1285 - val_loss: 4.7589 - val_mae: 5.2363\n",
            "Epoch 152/500\n",
            "31/31 [==============================] - 0s 8ms/step - loss: 4.6623 - mae: 5.1385 - val_loss: 4.7050 - val_mae: 5.1791\n",
            "Epoch 153/500\n",
            "31/31 [==============================] - 0s 8ms/step - loss: 4.6448 - mae: 5.1220 - val_loss: 4.7148 - val_mae: 5.1915\n",
            "Epoch 154/500\n",
            "31/31 [==============================] - 0s 8ms/step - loss: 4.6684 - mae: 5.1441 - val_loss: 4.8884 - val_mae: 5.3626\n",
            "Epoch 155/500\n",
            "31/31 [==============================] - 0s 8ms/step - loss: 4.6418 - mae: 5.1171 - val_loss: 4.6947 - val_mae: 5.1698\n",
            "Epoch 156/500\n",
            "31/31 [==============================] - 0s 8ms/step - loss: 4.6204 - mae: 5.0927 - val_loss: 4.7574 - val_mae: 5.2344\n",
            "Epoch 157/500\n",
            "31/31 [==============================] - 0s 8ms/step - loss: 4.6318 - mae: 5.1044 - val_loss: 4.7524 - val_mae: 5.2307\n",
            "Epoch 158/500\n",
            "31/31 [==============================] - 0s 8ms/step - loss: 4.7601 - mae: 5.2390 - val_loss: 4.7316 - val_mae: 5.2102\n",
            "Epoch 159/500\n",
            "31/31 [==============================] - 0s 8ms/step - loss: 4.6336 - mae: 5.1116 - val_loss: 4.6982 - val_mae: 5.1747\n",
            "Epoch 160/500\n",
            "31/31 [==============================] - 0s 7ms/step - loss: 4.6979 - mae: 5.1753 - val_loss: 4.7169 - val_mae: 5.1950\n",
            "Epoch 161/500\n",
            "31/31 [==============================] - 0s 8ms/step - loss: 4.6180 - mae: 5.0925 - val_loss: 5.3132 - val_mae: 5.7911\n",
            "Epoch 162/500\n",
            "31/31 [==============================] - 0s 6ms/step - loss: 4.6749 - mae: 5.1497 - val_loss: 4.6884 - val_mae: 5.1635\n",
            "Epoch 163/500\n",
            "31/31 [==============================] - 0s 8ms/step - loss: 4.6078 - mae: 5.0830 - val_loss: 4.8182 - val_mae: 5.2940\n",
            "Epoch 164/500\n",
            "31/31 [==============================] - 0s 8ms/step - loss: 4.6889 - mae: 5.1660 - val_loss: 4.8031 - val_mae: 5.2860\n",
            "Epoch 165/500\n",
            "31/31 [==============================] - 0s 7ms/step - loss: 4.6872 - mae: 5.1613 - val_loss: 5.1839 - val_mae: 5.6627\n",
            "Epoch 166/500\n",
            "31/31 [==============================] - 0s 8ms/step - loss: 4.6009 - mae: 5.0765 - val_loss: 5.0716 - val_mae: 5.5501\n",
            "Epoch 167/500\n",
            "31/31 [==============================] - 0s 7ms/step - loss: 4.6209 - mae: 5.0946 - val_loss: 4.8871 - val_mae: 5.3612\n",
            "Epoch 168/500\n",
            "31/31 [==============================] - 0s 8ms/step - loss: 4.6476 - mae: 5.1252 - val_loss: 4.7961 - val_mae: 5.2717\n",
            "Epoch 169/500\n",
            "31/31 [==============================] - 0s 6ms/step - loss: 4.6302 - mae: 5.1063 - val_loss: 4.9232 - val_mae: 5.4075\n",
            "Epoch 170/500\n",
            "31/31 [==============================] - 0s 7ms/step - loss: 4.6589 - mae: 5.1350 - val_loss: 4.8675 - val_mae: 5.3426\n",
            "Epoch 171/500\n",
            "31/31 [==============================] - 0s 7ms/step - loss: 4.6239 - mae: 5.0990 - val_loss: 5.2334 - val_mae: 5.7113\n",
            "Epoch 172/500\n",
            "31/31 [==============================] - 0s 8ms/step - loss: 4.5918 - mae: 5.0683 - val_loss: 4.8114 - val_mae: 5.2875\n"
          ]
        },
        {
          "output_type": "execute_result",
          "data": {
            "text/plain": [
              "<keras.callbacks.History at 0x7f6106cb72d0>"
            ]
          },
          "metadata": {},
          "execution_count": 18
        }
      ],
      "source": [
        "keras.backend.clear_session()\n",
        "tf.random.set_seed(42)\n",
        "np.random.seed(42)\n",
        "\n",
        "window_size = 30\n",
        "train_set = window_dataset(x_train, window_size)\n",
        "valid_set = window_dataset(x_valid, window_size)\n",
        "\n",
        "model = keras.models.Sequential([\n",
        "  keras.layers.Dense(10, activation=\"relu\", input_shape=[window_size]),\n",
        "  keras.layers.Dense(10, activation=\"relu\"),\n",
        "  keras.layers.Dense(1)\n",
        "])\n",
        "\n",
        "optimizer = keras.optimizers.SGD(lr=1e-5, momentum=0.9)\n",
        "model.compile(loss=keras.losses.Huber(),\n",
        "              optimizer=optimizer,\n",
        "              metrics=[\"mae\"])\n",
        "early_stopping = keras.callbacks.EarlyStopping(patience=10)\n",
        "model.fit(train_set, epochs=500,\n",
        "          validation_data=valid_set,\n",
        "          callbacks=[early_stopping])"
      ]
    },
    {
      "cell_type": "code",
      "execution_count": 19,
      "metadata": {
        "id": "RqQbX6DZ8OIu"
      },
      "outputs": [],
      "source": [
        "dense_forecast = model_forecast(\n",
        "    model,\n",
        "    series[split_time - window_size:-1],\n",
        "    window_size)[:, 0]"
      ]
    },
    {
      "cell_type": "code",
      "execution_count": 20,
      "metadata": {
        "id": "98zwAuIo8OIv",
        "outputId": "fa9f6b91-53ab-432e-f378-b03c00afee8b",
        "colab": {
          "base_uri": "https://localhost:8080/",
          "height": 388
        }
      },
      "outputs": [
        {
          "output_type": "display_data",
          "data": {
            "text/plain": [
              "<Figure size 720x432 with 1 Axes>"
            ],
            "image/png": "[encoded data removed]"
          },
          "metadata": {
            "needs_background": "light"
          }
        }
      ],
      "source": [
        "plt.figure(figsize=(10, 6))\n",
        "plot_series(time_valid, x_valid)\n",
        "plot_series(time_valid, dense_forecast)"
      ]
    },
    {
      "cell_type": "code",
      "execution_count": 21,
      "metadata": {
        "id": "EgkELN-58OIw",
        "outputId": "83d83c56-4e71-4df3-9364-a0272e01897c",
        "colab": {
          "base_uri": "https://localhost:8080/"
        }
      },
      "outputs": [
        {
          "output_type": "execute_result",
          "data": {
            "text/plain": [
              "5.2025537"
            ]
          },
          "metadata": {},
          "execution_count": 21
        }
      ],
      "source": [
        "keras.metrics.mean_absolute_error(x_valid, dense_forecast).numpy()"
      ]
    }
  ],
  "metadata": {
    "colab": {
      "collapsed_sections": [
        "vidayERjaO5q"
      ],
      "name": "l08c05_forecasting_with_machine_learning.ipynb",
      "provenance": []
    },
    "kernelspec": {
      "display_name": "Python 3",
      "name": "python3"
    }
  },
  "nbformat": 4,
  "nbformat_minor": 0
}